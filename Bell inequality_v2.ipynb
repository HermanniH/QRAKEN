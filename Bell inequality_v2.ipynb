{
 "cells": [
  {
   "cell_type": "code",
   "execution_count": 1,
   "metadata": {},
   "outputs": [
    {
     "data": {
      "text/plain": [
       "{'qiskit-terra': '0.9.0',\n",
       " 'qiskit-ignis': '0.2.0',\n",
       " 'qiskit-aqua': '0.6.0',\n",
       " 'qiskit': '0.12.1',\n",
       " 'qiskit-aer': '0.3.0',\n",
       " 'qiskit-ibmq-provider': '0.3.3'}"
      ]
     },
     "execution_count": 1,
     "metadata": {},
     "output_type": "execute_result"
    }
   ],
   "source": [
    "%matplotlib inline\n",
    "# standard-ish Qiskit libraries\n",
    "import qiskit\n",
    "from qiskit import QuantumRegister, ClassicalRegister, QuantumCircuit, execute, Aer, IBMQ\n",
    "\n",
    "#Insert IBMQ account string here\n",
    "#IBMQ.save_account('put_your_code_here',overwrite=True)\n",
    "\n",
    "\n",
    "import time\n",
    "import pickle\n",
    "\n",
    "\n",
    "import numpy as np\n",
    "import binascii\n",
    "# about transpiling, compiling, and executing\n",
    "from qiskit.compiler import transpile\n",
    "\n",
    "# For graphs\n",
    "from qiskit.tools.jupyter import *\n",
    "from qiskit.visualization import *\n",
    "\n",
    "# Aer noise models\n",
    "from qiskit.providers.aer import noise\n",
    "\n",
    "\n",
    "\n",
    "def flatten(l):\n",
    "    return [item for sublist in l for item in sublist]\n",
    "\n",
    "qiskit.__qiskit_version__"
   ]
  },
  {
   "cell_type": "code",
   "execution_count": 3,
   "metadata": {},
   "outputs": [
    {
     "name": "stdout",
     "output_type": "stream",
     "text": [
      "Bits Generated 1179648\n"
     ]
    }
   ],
   "source": [
    "#set parameters\n",
    "local=False #run locally (simulation) or on IBM (actual quantum simulation)\n",
    "initial_layout=[3,4] #set which qubits to use\n",
    "#initial_layout=[] #empty list if let compiler select which qubits to use\n",
    "\n",
    "\n",
    "machine='ibmq_vigo'#which IBM machine to use #ibmqx2 #ibmq_vigo #'ibmq_ourense'#'ibmq_16_melbourne' #qasm_simulator\n",
    "    \n",
    "dataset=\"LayoutTest\" #name of dataset\n",
    "\n",
    "if(len(initial_layout)>0): #add layout to dataset name\n",
    "    dataset+=\"I\"+str(initial_layout[0])+\"i\"+str(initial_layout[1])\n",
    "    \n",
    "if(local==True): #flag dataset if run locally\n",
    "    dataset=\"Simulated_\"+dataset\n",
    "    \n",
    "\n",
    "mode=1 #use which state preparation scheme, 0: scheme with less violation 1: maximal violation\n",
    "\n",
    "shots=2**13 #should not be larger than 8192 or 2**13\n",
    "multcircuit=18 #run all circuits x times. IBMQ can maximally run 20 circuits per run, e.g. multcircuit*ncircuits\n",
    " \n",
    "\n",
    "totalCircuits=multcircuit*ncircuits #should not be larger than backend.configuration().max_experiments\n",
    "\n",
    "floatformat='02.7f'\n",
    "\n",
    "print(\"Bits Generated\", totalCircuits*shots*2)\n"
   ]
  },
  {
   "cell_type": "code",
   "execution_count": 4,
   "metadata": {},
   "outputs": [
    {
     "name": "stderr",
     "output_type": "stream",
     "text": [
      "/home/tobias/anaconda3/envs/qiskit/lib/python3.7/site-packages/qiskit/providers/ibmq/ibmqfactory.py:181: UserWarning: Credentials are already in use. The existing account in the session will be replaced.\n",
      "  warnings.warn('Credentials are already in use. The existing '\n"
     ]
    },
    {
     "name": "stdout",
     "output_type": "stream",
     "text": [
      "Max shots set 8192 , Max shots allowed 8192\n",
      "repeated circuits (multcircuit) 18 , Maximum value allowed for multcircuit 18\n",
      "Number circuits set 72 , Max circuits allowed 75\n"
     ]
    }
   ],
   "source": [
    "ncircuits=4 #number of circuits of Bell inequality\n",
    "nStates=4 #number of states measured\n",
    "memory=True #get data of all shots\n",
    "\n",
    "#Load credentials\n",
    "IBMQ.load_account() \n",
    "if(local==True):\n",
    "    backend = Aer.get_backend('qasm_simulator')\n",
    "    #get noise and coupling map for simulation\n",
    "    backendToSimulate = IBMQ.get_provider().get_backend(machine)\n",
    "    properties = backendToSimulate.properties()\n",
    "    coupling_map = backendToSimulate.configuration().coupling_map\n",
    "    noise_model = noise.device.basic_device_noise_model(properties)\n",
    "    basis_gates = noise_model.basis_gates\n",
    "else:\n",
    "    backend = IBMQ.get_provider().get_backend(machine) #get IBM backend\n",
    "    \n",
    "if(memory==True):\n",
    "    if(backend.configuration().memory==False):\n",
    "        raise NameError(\"Memory not supported by machine\",machine)\n",
    "\n",
    "if(local==False):\n",
    "    print(\"Max shots set\",shots,\", Max shots allowed\",backend.configuration().max_shots)\n",
    "    print(\"repeated circuits (multcircuit)\",multcircuit,\", Maximum value allowed for multcircuit\",backend.configuration().max_experiments//ncircuits)\n",
    "    print(\"Number circuits set\",totalCircuits,\", Max circuits allowed\",backend.configuration().max_experiments)\n",
    "    if(shots>backend.configuration().max_shots):\n",
    "        raise NameError(\"shots number not supported by machine, reduce to\",backend.configuration().max_shots)\n",
    "    if(totalCircuits>backend.configuration().max_experiments):\n",
    "        raise NameError(\"Number circuits too large, try reducing multcircuit to\",backend.configuration().max_experiments//ncircuits)\n"
   ]
  },
  {
   "cell_type": "code",
   "execution_count": 5,
   "metadata": {},
   "outputs": [
    {
     "data": {
      "application/vnd.jupyter.widget-view+json": {
       "model_id": "9ebcfae6e47b45b09e91064676502166",
       "version_major": 2,
       "version_minor": 0
      },
      "text/plain": [
       "VBox(children=(HTML(value=\"<h2 style ='color:#ffffff; background-color:#000000;padding-top: 1%; padding-bottom…"
      ]
     },
     "metadata": {},
     "output_type": "display_data"
    }
   ],
   "source": [
    "%qiskit_backend_overview"
   ]
  },
  {
   "cell_type": "code",
   "execution_count": 6,
   "metadata": {},
   "outputs": [
    {
     "data": {
      "application/vnd.jupyter.widget-view+json": {
       "model_id": "d22fdf8d511f481380b2e308a34eb307",
       "version_major": 2,
       "version_minor": 0
      },
      "text/plain": [
       "VBox(children=(HTML(value=\"<h1 style='color:#ffffff;background-color:#000000;padding-top: 1%;padding-bottom: 1…"
      ]
     },
     "metadata": {},
     "output_type": "display_data"
    },
    {
     "data": {
      "text/plain": [
       "<IBMQBackend('ibmq_vigo') from IBMQ(hub='ibm-q', group='open', project='main')>"
      ]
     },
     "execution_count": 6,
     "metadata": {},
     "output_type": "execute_result"
    }
   ],
   "source": [
    "backend"
   ]
  },
  {
   "cell_type": "code",
   "execution_count": 7,
   "metadata": {},
   "outputs": [
    {
     "data": {
      "text/html": [
       "<pre style=\"word-wrap: normal;white-space: pre;background: #fff0;line-height: 1.1;font-family: &quot;Courier New&quot;,Courier,monospace\">          ┌───┐                          ░ \n",
       "qr0_0: |0>┤ H ├──■───────────────────────░─\n",
       "          └───┘┌─┴─┐┌───┐┌───┐┌───┐┌───┐ ░ \n",
       "qr0_1: |0>─────┤ X ├┤ S ├┤ H ├┤ T ├┤ H ├─░─\n",
       "               └───┘└───┘└───┘└───┘└───┘ ░ \n",
       " cr0_0: 0 ═════════════════════════════════\n",
       "                                           \n",
       " cr0_1: 0 ═════════════════════════════════\n",
       "                                           </pre>"
      ],
      "text/plain": [
       "<qiskit.visualization.text.TextDrawing at 0x7fd42a47bf50>"
      ]
     },
     "execution_count": 7,
     "metadata": {},
     "output_type": "execute_result"
    }
   ],
   "source": [
    "Stheory=2*np.sqrt(2) #theoretic maximal value for CHSH inequality\n",
    "circuitstring=['00','01','10','11'] #measurement settings\n",
    "dictStates=['00','01','10','11'] #output states\n",
    "memoryOrderStates=['00','10','01','11'] #states have differnet order for data returned from IBM machine. They are encoded as hex integer, and order of qubits is reverted\n",
    "\n",
    "#maps measurement results for two quibit measurement 0 or 1 to either +1 or -1. This is used to generate the expectation value.\n",
    "#stands for bit result ket(00) --> 1, ket(01)-->-1  ket(10)-->-1 ket(11)-->1\n",
    "mappingBitResultToPM=np.array([1,-1,-1,1]) \n",
    "\n",
    "#define CHSHS inequality. We have 4 terms ZZ, ZX, XZ, XX, each generated by one of the circuits. We now assign three terms with +1, and one with -1. \n",
    "# The factors are multiplied with the average value of the respective circuits\n",
    "if(mode==0):\n",
    "    CHSHfactors=np.array([1,1,-1,1])\n",
    "elif(mode==1):\n",
    "    CHSHfactors=np.array([1,1,1,-1])\n",
    "\n",
    "\n",
    "qr=[None for i in range(ncircuits)]\n",
    "cr=[None for i in range(ncircuits)]\n",
    "circuit=[None for i in range(ncircuits)]\n",
    "theta=-3*np.pi/16\n",
    "for i in range(ncircuits):\n",
    "    qr[i] = QuantumRegister(2, 'qr'+str(i))\n",
    "    cr[i] = ClassicalRegister(2, 'cr'+str(i))\n",
    "    circuit[i] = QuantumCircuit(qr[i], cr[i])\n",
    "\n",
    "    circuit[i].h(qr[i][0])\n",
    "    circuit[i].cx(qr[i][0], qr[i][1])\n",
    "\n",
    "\n",
    "#two ways to generate CHSH circuit\n",
    "if(mode==0): #does not generate maximal violation, only up to 2.77\n",
    "    for i in range(ncircuits):\n",
    "        circuit[i].u3(theta,0,0,qr[i][0])\n",
    "\n",
    "    #ZZ gate\n",
    "    #ZX gate\n",
    "    circuit[1].h(qr[1][1])\n",
    "\n",
    "    #XZ gate\n",
    "    circuit[2].h(qr[2][0])\n",
    "\n",
    "    #XX\n",
    "    circuit[3].h(qr[3][0])\n",
    "    circuit[3].h(qr[3][1])\n",
    "elif(mode==1): #better method, has maximal violation\n",
    "    #four measurement settings, generate four circuits\n",
    "    #ZW\n",
    "    current=0\n",
    "    circuit[current].s(qr[current][1])\n",
    "    circuit[current].h(qr[current][1])\n",
    "    circuit[current].t(qr[current][1])\n",
    "    circuit[current].h(qr[current][1])\n",
    "    \n",
    "    #ZV\n",
    "    current=1\n",
    "    circuit[current].s(qr[current][1])\n",
    "    circuit[current].h(qr[current][1])\n",
    "    circuit[current].tdg(qr[current][1])\n",
    "    circuit[current].h(qr[current][1])\n",
    "    \n",
    "    \n",
    "    #XW\n",
    "    current=2\n",
    "    circuit[current].h(qr[current][0])\n",
    "    circuit[current].s(qr[current][1])\n",
    "    circuit[current].h(qr[current][1])\n",
    "    circuit[current].t(qr[current][1])\n",
    "    circuit[current].h(qr[current][1])\n",
    "    \n",
    "    #ZV\n",
    "    current=3\n",
    "    circuit[current].h(qr[current][0])\n",
    "    circuit[current].s(qr[current][1])\n",
    "    circuit[current].h(qr[current][1])\n",
    "    circuit[current].tdg(qr[current][1])\n",
    "    circuit[current].h(qr[current][1])\n",
    "    \n",
    "for i in range(ncircuits):\n",
    "    circuit[i].barrier()\n",
    "#generate circuits with measurements\n",
    "circuitMeas=[circuit[i].copy() for i in range(ncircuits)] \n",
    "for i in range(ncircuits):\n",
    "    circuitMeas[i].measure(qr[i], cr[i])\n",
    "    \n",
    "\n",
    "circuit[0].draw() #draw circuits without measurements"
   ]
  },
  {
   "cell_type": "code",
   "execution_count": 8,
   "metadata": {},
   "outputs": [
    {
     "data": {
      "text/html": [
       "<pre style=\"word-wrap: normal;white-space: pre;background: #fff0;line-height: 1.1;font-family: &quot;Courier New&quot;,Courier,monospace\">          ┌───┐                            ░ \n",
       "qr1_0: |0>┤ H ├──■─────────────────────────░─\n",
       "          └───┘┌─┴─┐┌───┐┌───┐┌─────┐┌───┐ ░ \n",
       "qr1_1: |0>─────┤ X ├┤ S ├┤ H ├┤ Tdg ├┤ H ├─░─\n",
       "               └───┘└───┘└───┘└─────┘└───┘ ░ \n",
       " cr1_0: 0 ═══════════════════════════════════\n",
       "                                             \n",
       " cr1_1: 0 ═══════════════════════════════════\n",
       "                                             </pre>"
      ],
      "text/plain": [
       "<qiskit.visualization.text.TextDrawing at 0x7fd42a47be10>"
      ]
     },
     "execution_count": 8,
     "metadata": {},
     "output_type": "execute_result"
    }
   ],
   "source": [
    "circuit[1].draw()"
   ]
  },
  {
   "cell_type": "code",
   "execution_count": 9,
   "metadata": {},
   "outputs": [
    {
     "data": {
      "text/html": [
       "<pre style=\"word-wrap: normal;white-space: pre;background: #fff0;line-height: 1.1;font-family: &quot;Courier New&quot;,Courier,monospace\">          ┌───┐     ┌───┐                ░ \n",
       "qr2_0: |0>┤ H ├──■──┤ H ├────────────────░─\n",
       "          └───┘┌─┴─┐├───┤┌───┐┌───┐┌───┐ ░ \n",
       "qr2_1: |0>─────┤ X ├┤ S ├┤ H ├┤ T ├┤ H ├─░─\n",
       "               └───┘└───┘└───┘└───┘└───┘ ░ \n",
       " cr2_0: 0 ═════════════════════════════════\n",
       "                                           \n",
       " cr2_1: 0 ═════════════════════════════════\n",
       "                                           </pre>"
      ],
      "text/plain": [
       "<qiskit.visualization.text.TextDrawing at 0x7fd42b022150>"
      ]
     },
     "execution_count": 9,
     "metadata": {},
     "output_type": "execute_result"
    }
   ],
   "source": [
    "circuit[2].draw()"
   ]
  },
  {
   "cell_type": "code",
   "execution_count": 10,
   "metadata": {},
   "outputs": [
    {
     "data": {
      "text/html": [
       "<pre style=\"word-wrap: normal;white-space: pre;background: #fff0;line-height: 1.1;font-family: &quot;Courier New&quot;,Courier,monospace\">          ┌───┐     ┌───┐                  ░ \n",
       "qr3_0: |0>┤ H ├──■──┤ H ├──────────────────░─\n",
       "          └───┘┌─┴─┐├───┤┌───┐┌─────┐┌───┐ ░ \n",
       "qr3_1: |0>─────┤ X ├┤ S ├┤ H ├┤ Tdg ├┤ H ├─░─\n",
       "               └───┘└───┘└───┘└─────┘└───┘ ░ \n",
       " cr3_0: 0 ═══════════════════════════════════\n",
       "                                             \n",
       " cr3_1: 0 ═══════════════════════════════════\n",
       "                                             </pre>"
      ],
      "text/plain": [
       "<qiskit.visualization.text.TextDrawing at 0x7fd42a5b3a10>"
      ]
     },
     "execution_count": 10,
     "metadata": {},
     "output_type": "execute_result"
    }
   ],
   "source": [
    "circuit[3].draw()"
   ]
  },
  {
   "cell_type": "code",
   "execution_count": 11,
   "metadata": {
    "scrolled": true
   },
   "outputs": [
    {
     "data": {
      "text/html": [
       "<pre style=\"word-wrap: normal;white-space: pre;background: #fff0;line-height: 1.1;font-family: &quot;Courier New&quot;,Courier,monospace\">          ┌───┐     ┌───┐                  ░ ┌─┐   \n",
       "qr3_0: |0>┤ H ├──■──┤ H ├──────────────────░─┤M├───\n",
       "          └───┘┌─┴─┐├───┤┌───┐┌─────┐┌───┐ ░ └╥┘┌─┐\n",
       "qr3_1: |0>─────┤ X ├┤ S ├┤ H ├┤ Tdg ├┤ H ├─░──╫─┤M├\n",
       "               └───┘└───┘└───┘└─────┘└───┘ ░  ║ └╥┘\n",
       " cr3_0: 0 ════════════════════════════════════╩══╬═\n",
       "                                                 ║ \n",
       " cr3_1: 0 ═══════════════════════════════════════╩═\n",
       "                                                   </pre>"
      ],
      "text/plain": [
       "<qiskit.visualization.text.TextDrawing at 0x7fd42a4fb490>"
      ]
     },
     "execution_count": 11,
     "metadata": {},
     "output_type": "execute_result"
    }
   ],
   "source": [
    "plotmeas=3\n",
    "fig=circuitMeas[plotmeas].draw()\n",
    "fig"
   ]
  },
  {
   "cell_type": "code",
   "execution_count": 12,
   "metadata": {
    "scrolled": true
   },
   "outputs": [
    {
     "data": {
      "text/plain": [
       "[2.8284271247461894,\n",
       " 2.8284271247461903,\n",
       " 8.881784197001252e-16,\n",
       " array([[0.4267767, 0.0732233, 0.0732233, 0.4267767],\n",
       "        [0.4267767, 0.0732233, 0.0732233, 0.4267767],\n",
       "        [0.4267767, 0.0732233, 0.0732233, 0.4267767],\n",
       "        [0.0732233, 0.4267767, 0.4267767, 0.0732233]])]"
      ]
     },
     "execution_count": 12,
     "metadata": {},
     "output_type": "execute_result"
    }
   ],
   "source": [
    "# Run the quantum circuit on a statevector simulator backend\n",
    "sv_simulator = Aer.get_backend('statevector_simulator')\n",
    "\n",
    "#to generate state, use circuits without measurement\n",
    "outputvector=[None for i in range(ncircuits)]\n",
    "for i in range(ncircuits):\n",
    "    # Execute the circuit\n",
    "    job = execute(circuit[i], sv_simulator)\n",
    "\n",
    "    # Get the result\n",
    "    result = job.result()\n",
    "    outputstate = result.get_statevector(circuit[i], decimals=20)\n",
    "    outputvector[i]=outputstate\n",
    "    \n",
    "#print(outputvector)\n",
    "\n",
    "\n",
    "\n",
    "probabilities=np.abs(np.array(outputvector))**2\n",
    "\n",
    "mappedto01=probabilities*mappingBitResultToPM\n",
    "summedOverEachTerm=np.sum(mappedto01,axis=1)\n",
    "S=np.sum(summedOverEachTerm*CHSHfactors)\n",
    "[S,Stheory,Stheory-S,probabilities] #outputs inequality, theory value, difference between output and thoery, and the probabilities of each circuit\n"
   ]
  },
  {
   "cell_type": "code",
   "execution_count": 14,
   "metadata": {},
   "outputs": [
    {
     "data": {
      "text/plain": [
       "'\\n#generate transpiler\\nif(len(initial_layout)==0):\\n    trans=transpile(multcircuitMeas,backend)#,initial_layout=[0,1]\\nelse:\\n    trans=transpile(multcircuitMeas,backend,initial_layout=initial_layout)\\n'"
      ]
     },
     "execution_count": 14,
     "metadata": {},
     "output_type": "execute_result"
    }
   ],
   "source": [
    "\n",
    "\n",
    "#we run the ncircuits multcircuit times to generate more data per run on the IBM machine\n",
    "multcircuitMeas=flatten([[circuitMeas[j].copy() for j in range(ncircuits)] for i in range(multcircuit)])\n",
    "\n",
    "\"\"\"\n",
    "#generate transpiler\n",
    "if(len(initial_layout)==0):\n",
    "    trans=transpile(multcircuitMeas,backend)#,initial_layout=[0,1]\n",
    "else:\n",
    "    trans=transpile(multcircuitMeas,backend,initial_layout=initial_layout)\n",
    "\"\"\""
   ]
  },
  {
   "cell_type": "code",
   "execution_count": 370,
   "metadata": {},
   "outputs": [],
   "source": [
    "#trans[1].draw()"
   ]
  },
  {
   "cell_type": "code",
   "execution_count": 371,
   "metadata": {},
   "outputs": [],
   "source": [
    "#trans[2].draw()"
   ]
  },
  {
   "cell_type": "code",
   "execution_count": 372,
   "metadata": {},
   "outputs": [],
   "source": [
    "#trans[3].draw()"
   ]
  },
  {
   "cell_type": "code",
   "execution_count": 15,
   "metadata": {},
   "outputs": [
    {
     "name": "stdout",
     "output_type": "stream",
     "text": [
      "Run on IBM backend ibmq_vigo\n",
      "Run with initial_layout [3, 4]\n",
      "IBM time accept time 6.742658853530884\n"
     ]
    }
   ],
   "source": [
    "#jobIBMqx2 = execute(circuitMeas, ibmqx2, shots=shots,memory=True)#,meas_return='single',meas_level=0\n",
    "starttime=time.time()\n",
    "if(local==True):\n",
    "    print(\"Run with noise models of\",machine,\"locally\")\n",
    "    if(len(initial_layout)==0):\n",
    "        job = execute(multcircuitMeas, backend, shots=shots,memory=memory,\n",
    "                  coupling_map=coupling_map,\n",
    "                  noise_model=noise_model,\n",
    "                  basis_gates=basis_gates)\n",
    "    else:\n",
    "        job = execute(multcircuitMeas, backend, shots=shots,memory=memory,\n",
    "                  coupling_map=coupling_map,\n",
    "                  noise_model=noise_model,\n",
    "                  basis_gates=basis_gates,initial_layout=initial_layout)\n",
    "else:\n",
    "    print(\"Run on IBM backend\",machine)\n",
    "    if(len(initial_layout)==0):\n",
    "        print(\"Run without initial_layout\")\n",
    "        job =execute(multcircuitMeas,backend, shots=shots,memory=memory)\n",
    "    else:\n",
    "        print(\"Run with initial_layout\",initial_layout)\n",
    "        job =execute(multcircuitMeas,backend, shots=shots,memory=memory,initial_layout=initial_layout)\n",
    "\n",
    "    print(\"IBM time to submit to queue\",time.time()-starttime)"
   ]
  },
  {
   "cell_type": "code",
   "execution_count": 16,
   "metadata": {},
   "outputs": [
    {
     "name": "stdout",
     "output_type": "stream",
     "text": [
      "Waiting for job to finish and retrieve data\n",
      "Final wait time 680.40039229393\n"
     ]
    }
   ],
   "source": [
    "# Grab the results from the job.\n",
    "print(\"Waiting for job to finish and retrieve data\")\n",
    "starttime=time.time()\n",
    "result = job.result()\n",
    "print(\"Final wait time\",time.time()-starttime)"
   ]
  },
  {
   "cell_type": "code",
   "execution_count": 17,
   "metadata": {},
   "outputs": [
    {
     "name": "stdout",
     "output_type": "stream",
     "text": [
      "Start evaluation of data\n",
      "{'00': 60446, '01': 11035, '10': 12112, '11': 63863}\n",
      "{'00': 60238, '01': 14854, '10': 13106, '11': 59258}\n",
      "{'00': 58809, '01': 12961, '10': 15219, '11': 60467}\n",
      "{'00': 12691, '01': 62384, '10': 61501, '11': 10880}\n"
     ]
    },
    {
     "data": {
      "text/plain": [
       "[2.604899088541667,\n",
       " 2.8284271247461903,\n",
       " 0.22352803620452333,\n",
       " array([ 0.68604872,  0.62076823,  0.61778429, -0.68029785]),\n",
       " [array([[0.40992567, 0.4267767 ],\n",
       "         [0.07483588, 0.0732233 ],\n",
       "         [0.08213976, 0.0732233 ],\n",
       "         [0.43309869, 0.4267767 ]]), array([[0.40851508, 0.4267767 ],\n",
       "         [0.10073513, 0.0732233 ],\n",
       "         [0.08888075, 0.0732233 ],\n",
       "         [0.40186903, 0.4267767 ]]), array([[0.39882406, 0.4267767 ],\n",
       "         [0.08789741, 0.0732233 ],\n",
       "         [0.10321045, 0.0732233 ],\n",
       "         [0.41006809, 0.4267767 ]]), array([[0.08606635, 0.0732233 ],\n",
       "         [0.42306858, 0.4267767 ],\n",
       "         [0.41708035, 0.4267767 ],\n",
       "         [0.07378472, 0.0732233 ]])]]"
      ]
     },
     "execution_count": 17,
     "metadata": {},
     "output_type": "execute_result"
    }
   ],
   "source": [
    "totalshots=shots*multcircuit \n",
    "counts=[{} for i in range(ncircuits)]\n",
    "for i in range(ncircuits):\n",
    "    for m in range(len(dictStates)):\n",
    "        counts[i][dictStates[m]]=0\n",
    "countsVec=[None for i in range(ncircuits)]\n",
    "countsVecNorm=[None for i in range(ncircuits)]\n",
    "shotsResult=[None for i in range(ncircuits)]\n",
    "measSetting=[None for i in range(ncircuits)]\n",
    "\n",
    "print(\"Start evaluation of data\")\n",
    "for i in range(ncircuits):\n",
    "    for k in range(multcircuit):\n",
    "        for m in range(nStates):\n",
    "            if(dictStates[m] in result.get_counts(k*ncircuits+i)):\n",
    "                counts[i][dictStates[m]]+=result.get_counts(k*ncircuits+i)[dictStates[m]]\n",
    "            else:\n",
    "                print(\"Warning: entry \",dictStates[m],\"for circuit\",k*ncircuits+i,\"is zero\")\n",
    "        \n",
    "#        if(k==0):\n",
    "#            counts[i] = result.get_counts(k*ncircuits+i)\n",
    "#        else:\n",
    "#            for m in range(nStates):\n",
    "#                counts[i][dictStates[m]]+=result.get_counts(k*ncircuits+i)[dictStates[m]]\n",
    "\n",
    "                    \n",
    "    print(counts[i])\n",
    "    countsVec[i]=np.array([counts[i][dictStates[j]] if dictStates[j] in counts[i] else 0 for j in range(len(dictStates))])\n",
    "    countsVecNorm[i]=countsVec[i]/np.sum(countsVec[i])\n",
    "    if(memory==True):\n",
    "        for k in range(multcircuit):\n",
    "            if(k==0):\n",
    "                memCircuit=result.data(k*ncircuits+i)['memory']\n",
    "            else:\n",
    "                memCircuit+=result.data(k*ncircuits+i)['memory']\n",
    "        shotsResult[i]=[memoryOrderStates[int(memCircuit[j],16)] for j in range(totalshots)]\n",
    "        measSetting[i]=[circuitstring[i] for j in range(totalshots)]\n",
    "        #from qiskit.visualization import plot_histogram\n",
    "        #plot_histogram(counts[i])\n",
    "\n",
    "\n",
    "mappedto01Result=countsVecNorm*mappingBitResultToPM\n",
    "summedOverEachTermResult=np.sum(mappedto01Result,axis=1)\n",
    "SResult=np.sum(summedOverEachTermResult*CHSHfactors)\n",
    "\n",
    "compareExact=[np.transpose([countsVecNorm[i],probabilities[i]]) for i in range(ncircuits)]\n",
    "    \n",
    "[SResult,Stheory,Stheory-SResult,summedOverEachTermResult,compareExact]"
   ]
  },
  {
   "cell_type": "code",
   "execution_count": 18,
   "metadata": {},
   "outputs": [
    {
     "data": {
      "image/png": "[encoded data removed]",
      "text/plain": [
       "<Figure size 504x360 with 1 Axes>"
      ]
     },
     "execution_count": 18,
     "metadata": {},
     "output_type": "execute_result"
    }
   ],
   "source": [
    "fig=plot_histogram(counts)\n",
    "fig.savefig(\"Hist_\"+machine+\"_\"+dataset+\"_S\"+format(SResult,floatformat).replace(\".\",\"_\")+\".pdf\")\n",
    "fig"
   ]
  },
  {
   "cell_type": "code",
   "execution_count": 19,
   "metadata": {},
   "outputs": [
    {
     "data": {
      "text/plain": [
       "[{'00': 60446, '01': 11035, '10': 12112, '11': 63863},\n",
       " {'00': 60238, '01': 14854, '10': 13106, '11': 59258},\n",
       " {'00': 58809, '01': 12961, '10': 15219, '11': 60467},\n",
       " {'00': 12691, '01': 62384, '10': 61501, '11': 10880}]"
      ]
     },
     "execution_count": 19,
     "metadata": {},
     "output_type": "execute_result"
    }
   ],
   "source": [
    "counts"
   ]
  },
  {
   "cell_type": "code",
   "execution_count": 20,
   "metadata": {},
   "outputs": [
    {
     "name": "stdout",
     "output_type": "stream",
     "text": [
      "Generating output bits of measurement results and settings for alice and Bob\n",
      "Finish output\n"
     ]
    }
   ],
   "source": [
    "#Output data\n",
    "\n",
    "#file with \n",
    "resultA=[] #alice measuremnt result\n",
    "resultB=[] #bob measurement result\n",
    "measSettingA=[] #alice measurement Setting\n",
    "measSettingB=[] #bob measurement Setting\n",
    "#shuffleCircuits=flatten([[np.ones(shots)*i,np.arange(shots)] for i in range(ncircuits)])\n",
    "if(memory==True):\n",
    "    print(\"Generating output bits of measurement results and settings for alice and Bob\")\n",
    "    shuffleCircuits=flatten([np.ones(totalshots,dtype=int)*i for i in range(ncircuits)]) #shuffle differen measurement types\n",
    "    np.random.shuffle(shuffleCircuits)\n",
    "    for i in range(ncircuits):\n",
    "        for j in range(totalshots):\n",
    "            circuitindex=shuffleCircuits[i*totalshots+j] #use shuffled index\n",
    "            resultA+=shotsResult[circuitindex][j][0]\n",
    "            resultB+=shotsResult[circuitindex][j][1]\n",
    "            measSettingA+=measSetting[circuitindex][j][0]\n",
    "            measSettingB+=measSetting[circuitindex][j][1]\n",
    "\n",
    "            #output \n",
    "    with open('outputCHSH_'+machine+'_'+dataset+'.txt', 'w') as the_file:\n",
    "        the_file.write(\"\".join(resultA)+\"\\n\")\n",
    "        the_file.write(\"\".join(resultB)+\"\\n\")\n",
    "        the_file.write(\"\".join(measSettingA)+\"\\n\")\n",
    "        the_file.write(\"\".join(measSettingB))\n",
    "\n",
    "\n",
    "    with open('outputCHSH_'+machine+'_Concat_'+dataset+'.txt', 'w') as the_file:\n",
    "        the_file.write(\"\".join(resultA)+\"\\n\")\n",
    "        the_file.write(\"\".join(resultB))\n",
    "    \n",
    "    \n",
    "#dump all data in pickle\n",
    "outfile=open( \"outputCHSH_\"+machine+\"_\"+dataset+\".pcl\", \"wb\" )\n",
    "pickle.dump([counts,countsVecNorm,shotsResult,measSetting,SResult,Stheory,summedOverEachTermResult,compareExact,resultA,resultB,measSettingA,measSettingB], outfile)\n",
    "outfile.close()\n",
    "\n",
    "print(\"Finish output\")"
   ]
  },
  {
   "cell_type": "code",
   "execution_count": null,
   "metadata": {},
   "outputs": [],
   "source": []
  },
  {
   "cell_type": "code",
   "execution_count": null,
   "metadata": {},
   "outputs": [],
   "source": []
  },
  {
   "cell_type": "code",
   "execution_count": null,
   "metadata": {},
   "outputs": [],
   "source": []
  },
  {
   "cell_type": "code",
   "execution_count": null,
   "metadata": {},
   "outputs": [],
   "source": []
  },
  {
   "cell_type": "code",
   "execution_count": null,
   "metadata": {},
   "outputs": [],
   "source": []
  },
  {
   "cell_type": "code",
   "execution_count": null,
   "metadata": {},
   "outputs": [],
   "source": []
  },
  {
   "cell_type": "code",
   "execution_count": null,
   "metadata": {},
   "outputs": [],
   "source": []
  },
  {
   "cell_type": "code",
   "execution_count": null,
   "metadata": {},
   "outputs": [],
   "source": []
  },
  {
   "cell_type": "code",
   "execution_count": null,
   "metadata": {},
   "outputs": [],
   "source": []
  },
  {
   "cell_type": "code",
   "execution_count": null,
   "metadata": {},
   "outputs": [],
   "source": []
  }
 ],
 "metadata": {
  "kernelspec": {
   "display_name": "Python 3",
   "language": "python",
   "name": "python3"
  },
  "language_info": {
   "codemirror_mode": {
    "name": "ipython",
    "version": 3
   },
   "file_extension": ".py",
   "mimetype": "text/x-python",
   "name": "python",
   "nbconvert_exporter": "python",
   "pygments_lexer": "ipython3",
   "version": "3.7.4"
  }
 },
 "nbformat": 4,
 "nbformat_minor": 2
}
