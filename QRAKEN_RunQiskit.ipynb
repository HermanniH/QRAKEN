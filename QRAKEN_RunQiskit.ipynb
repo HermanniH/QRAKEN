{
 "cells": [
  {
   "cell_type": "code",
   "execution_count": 200,
   "metadata": {},
   "outputs": [
    {
     "data": {
      "text/plain": [
       "{'qiskit-terra': '0.9.1',\n",
       " 'qiskit-ignis': '0.2.0',\n",
       " 'qiskit': '0.12.2',\n",
       " 'qiskit-aer': '0.3.0',\n",
       " 'qiskit-ibmq-provider': '0.3.3',\n",
       " 'qiskit-aqua': '0.6.0'}"
      ]
     },
     "execution_count": 200,
     "metadata": {},
     "output_type": "execute_result"
    }
   ],
   "source": [
    "%matplotlib inline\n",
    "# standard-ish Qiskit libraries\n",
    "import qiskit\n",
    "from qiskit import QuantumRegister, ClassicalRegister, QuantumCircuit, execute, Aer, IBMQ\n",
    "\n",
    "#Insert IBMQ account string here\n",
    "#IBMQ.save_account('put code here',overwrite=True)\n",
    "\n",
    "\n",
    "import time\n",
    "import pickle\n",
    "\n",
    "\n",
    "import numpy as np\n",
    "import binascii\n",
    "# about transpiling, compiling, and executing\n",
    "from qiskit.compiler import transpile\n",
    "\n",
    "# For graphs\n",
    "from qiskit.tools.jupyter import *\n",
    "from qiskit.visualization import *\n",
    "\n",
    "# Aer noise models\n",
    "from qiskit.providers.aer import noise\n",
    "\n",
    "\n",
    "\n",
    "def flatten(l):\n",
    "    return [item for sublist in l for item in sublist]\n",
    "\n",
    "qiskit.__qiskit_version__"
   ]
  },
  {
   "cell_type": "code",
   "execution_count": 201,
   "metadata": {},
   "outputs": [
    {
     "data": {
      "text/plain": [
       "'Test_I_0_1_3_4'"
      ]
     },
     "execution_count": 201,
     "metadata": {},
     "output_type": "execute_result"
    }
   ],
   "source": [
    "#set parameters\n",
    "local=False #run locally (simulation) or on IBM (actual quantum simulation)\n",
    "#coupling_map_pair=[] #empty list if let compiler select which qubits to use\n",
    "#coupling_map_pair=[[0,1]]  #set which qubits to use on machine, enter as a pair of two coupled together, must be of form [[0,1]] or [[0,1],[3,4]]\n",
    "\n",
    "coupling_map_pair=[[0,1],[3,4]]  #set which qubits to use on machine, enter as a pair of two coupled together, must be of form [[0,1]] or [[0,1],[3,4]]\n",
    "\n",
    "\n",
    "\n",
    "\n",
    "machine='ibmq_vigo'#which IBM machine to use #ibmqx2 #ibmq_vigo #'ibmq_ourense'#'ibmq_16_melbourne' #qasm_simulator\n",
    "    \n",
    "dataset=\"Test\" #name of dataset\n",
    "\n",
    "\n",
    "    \n",
    "\n",
    "mode=0 #use which state preparation scheme, 0: maximal violation, 1: scheme with less violation \n",
    "\n",
    "if(mode!=0): #add mode to dataset name\n",
    "    dataset+=\"m\"+str(mode)\n",
    "\n",
    "shots=2**13 #should not be larger than 8192 or 2**13\n",
    "Nrepeatcircuits=0 #run all circuits how often. For zero, runs them the maximal amount, else specifiy. Maximal amount is limited by specific IBMQ machine\n",
    " \n",
    "Nparallel=0 #number of parallel qubit pairs measured, set to zero to choose maximal value or choose according to layout\n",
    "\n",
    "for i in range(len(coupling_map_pair)):\n",
    "    if(len(coupling_map_pair[i])!=2):\n",
    "        raise NameError(\"coupling_map_pair should be a list of consisting of a list of two numbers, e.g. [[0,1]] or [[0,1],[3,4]]\")\n",
    "\n",
    "initial_layout=flatten(coupling_map_pair) #layout of physical qubits used\n",
    "if(len(initial_layout)>0): #add layout to dataset name\n",
    "    dataset+=\"_I\"\n",
    "    for i in range(len(initial_layout)):\n",
    "        dataset+=\"_\"+str(initial_layout[i])\n",
    "    \n",
    "if(local==True): #flag dataset if run locally\n",
    "    dataset=\"Simulated_\"+dataset\n",
    "\n",
    "dataset"
   ]
  },
  {
   "cell_type": "code",
   "execution_count": 202,
   "metadata": {},
   "outputs": [
    {
     "name": "stderr",
     "output_type": "stream",
     "text": [
      "D:\\Anaconda3\\envs\\qiskit\\lib\\site-packages\\qiskit\\providers\\ibmq\\ibmqfactory.py:181: UserWarning: Credentials are already in use. The existing account in the session will be replaced.\n",
      "  warnings.warn('Credentials are already in use. The existing '\n"
     ]
    },
    {
     "name": "stdout",
     "output_type": "stream",
     "text": [
      "Max shots set 8192 , Max shots allowed 8192\n",
      "repeated circuits (Nrepeatcircuits) 18 , Maximum value allowed for Nrepeatcircuits 18\n",
      "Number circuits set 72 , Max circuits allowed 75\n",
      "Parallel pairs measured is set 2 , Max allowed 2\n",
      "Bits Generated per run 2359296\n"
     ]
    }
   ],
   "source": [
    "floatformat='02.7f' #format to print out floats\n",
    "NmeasurementSettings=4 #number of circuits of Bell inequality\n",
    "Nstates=4 #number of states measured\n",
    "memory=True #get data of all shots\n",
    "\n",
    "\n",
    "\n",
    "#Load credentials\n",
    "IBMQ.load_account() \n",
    "if(local==True):\n",
    "    backendRun = Aer.get_backend('qasm_simulator')\n",
    "    #get noise and coupling map for simulation\n",
    "    backend = IBMQ.get_provider().get_backend(machine)\n",
    "    backendConfig=backend.configuration()\n",
    "    properties = backend.properties()\n",
    "    coupling_map = backendConfig.coupling_map\n",
    "    noise_model = noise.device.basic_device_noise_model(properties)\n",
    "    basis_gates = noise_model.basis_gates\n",
    "    \n",
    "\n",
    "else:\n",
    "    backend = IBMQ.get_provider().get_backend(machine) #get IBM backend\n",
    "    backendRun=backend\n",
    "    backendConfig=backend.configuration()\n",
    "\n",
    "if(Nrepeatcircuits==0):\n",
    "    Nrepeatcircuits=backendConfig.max_experiments//NmeasurementSettings\n",
    "    \n",
    "if(memory==True):\n",
    "    if(backendConfig.memory==False):\n",
    "        raise NameError(\"Memory not supported by machine\",machine)\n",
    "\n",
    "\n",
    "NallCircuits=Nrepeatcircuits*NmeasurementSettings #should not be larger than backend.configuration().max_experiments\n",
    "     \n",
    "maxqubits=backendConfig.n_qubits #maximum number of qubits allowed in machine\n",
    "\n",
    "if(Nparallel==0):\n",
    "    if(len(initial_layout)==0):\n",
    "        Nparallel=maxqubits//2\n",
    "    else:\n",
    "        Nparallel=len(initial_layout)//2\n",
    "\n",
    "\n",
    "\n",
    "\n",
    "    \n",
    "if(local==False):\n",
    "    print(\"Max shots set\",shots,\", Max shots allowed\",backendConfig.max_shots)\n",
    "    print(\"repeated circuits (Nrepeatcircuits)\",Nrepeatcircuits,\", Maximum value allowed for Nrepeatcircuits\",backendConfig.max_experiments//NmeasurementSettings)\n",
    "    print(\"Number circuits set\",NallCircuits,\", Max circuits allowed\",backendConfig.max_experiments)\n",
    "    print(\"Parallel pairs measured is set\",Nparallel,\", Max allowed\",maxqubits//2)\n",
    "    if(shots>backendConfig.max_shots):\n",
    "        raise NameError(\"shots number not supported by machine, reduce to\",backendConfig.max_shots)\n",
    "    if(NallCircuits>backendConfig.max_experiments):\n",
    "        raise NameError(\"Number circuits too large, try reducing Nrepeatcircuits to\",backendConfig.max_experiments//NmeasurementSettings)\n",
    "\n",
    "    if(len(initial_layout)>maxqubits):\n",
    "        raise NameError(\"Number of parallelized qubit pairs too large, try reducing initial_layout entries to\",maxqubits)\n",
    "\n",
    "    if(Nparallel>maxqubits):\n",
    "        raise NameError(\"Number of parallelized qubit pairs too large, try reducing Nparallel to\",maxqubits//2)\n",
    "\n",
    "            \n",
    "print(\"Bits Generated per run\", Nparallel*NallCircuits*shots*2)"
   ]
  },
  {
   "cell_type": "code",
   "execution_count": 203,
   "metadata": {},
   "outputs": [
    {
     "data": {
      "application/vnd.jupyter.widget-view+json": {
       "model_id": "03eef46908eb4cd79c69bb36db58da54",
       "version_major": 2,
       "version_minor": 0
      },
      "text/plain": [
       "VBox(children=(HTML(value=\"<h2 style ='color:#ffffff; background-color:#000000;padding-top: 1%; padding-bottom…"
      ]
     },
     "metadata": {},
     "output_type": "display_data"
    }
   ],
   "source": [
    "%qiskit_backend_overview"
   ]
  },
  {
   "cell_type": "code",
   "execution_count": 204,
   "metadata": {},
   "outputs": [
    {
     "data": {
      "application/vnd.jupyter.widget-view+json": {
       "model_id": "36b0c7c75541473794f3bd212b0fa65d",
       "version_major": 2,
       "version_minor": 0
      },
      "text/plain": [
       "VBox(children=(HTML(value=\"<h1 style='color:#ffffff;background-color:#000000;padding-top: 1%;padding-bottom: 1…"
      ]
     },
     "metadata": {},
     "output_type": "display_data"
    },
    {
     "data": {
      "text/plain": [
       "<IBMQBackend('ibmq_vigo') from IBMQ(hub='ibm-q', group='open', project='main')>"
      ]
     },
     "execution_count": 204,
     "metadata": {},
     "output_type": "execute_result"
    }
   ],
   "source": [
    "backend"
   ]
  },
  {
   "cell_type": "code",
   "execution_count": 205,
   "metadata": {},
   "outputs": [
    {
     "name": "stdout",
     "output_type": "stream",
     "text": [
      "0 [0, 1] CNOT Error 0.008854620731233304\n",
      "1 [3, 4] CNOT Error 0.008408688767908706\n",
      "Readout Error of qbit number 0 physical position 0 Error 0.08099999999999996\n",
      "Readout Error of qbit number 1 physical position 1 Error 0.030000000000000027\n",
      "Readout Error of qbit number 2 physical position 3 Error 0.030000000000000027\n",
      "Readout Error of qbit number 3 physical position 4 Error 0.03300000000000003\n"
     ]
    }
   ],
   "source": [
    "propertiesQubits=backend.properties().qubits\n",
    "readout_errorList=[]\n",
    "for i in range(maxqubits):\n",
    "    for j in range(len(propertiesQubits[i])):\n",
    "        if(propertiesQubits[i][j].name==\"readout_error\"):\n",
    "            readout_errorList.append(propertiesQubits[i][j].value)\n",
    "couplingMapFull=np.unique(np.sort(backendConfig.coupling_map,axis=1),axis=0) #returns coupling map of only unique entries\n",
    "propertiesGates=backend.properties().gates\n",
    "\n",
    "cNotErrorList=[]\n",
    "for i in range(len(propertiesGates)):\n",
    "    for j in range(len(couplingMapFull)):\n",
    "        if(np.all(np.array(propertiesGates[i].qubits)==couplingMapFull[j])):\n",
    "            for k in range(len(propertiesGates[i].parameters)):\n",
    "                if(propertiesGates[i].parameters[k].name==\"gate_error\"):\n",
    "                    cNotErrorList.append([couplingMapFull[j],propertiesGates[i].parameters[k].value])\n",
    "\n",
    "\n",
    "CNOTsUsedError=[]\n",
    "for i in range(len(coupling_map_pair)):\n",
    "    for j in range(len(couplingMapFull)):\n",
    "        if(np.all(cNotErrorList[j][0]==np.sort(coupling_map_pair[i]))):\n",
    "            CNOTsUsedError.append([i,coupling_map_pair[i],cNotErrorList[j][1]])\n",
    "            print(i,coupling_map_pair[i],\"CNOT Error\",cNotErrorList[j][1] )\n",
    "\n",
    "QubitsUsedMeasurementError=[]\n",
    "for i in range(len(coupling_map_pair)):\n",
    "    for j in range(2):\n",
    "        QubitsUsedMeasurementError.append([2*i+j,coupling_map_pair[i][j],readout_errorList[coupling_map_pair[i][j]]])\n",
    "        print(\"Readout Error of qbit number\",2*i+j,\"physical position\",coupling_map_pair[i][j],\"Error\",readout_errorList[coupling_map_pair[i][j]])"
   ]
  },
  {
   "cell_type": "code",
   "execution_count": 206,
   "metadata": {},
   "outputs": [
    {
     "name": "stdout",
     "output_type": "stream",
     "text": [
      "          ┌───┐                          ░ \n",
      "qr0_0: |0>┤ H ├──■───────────────────────░─\n",
      "          └───┘┌─┴─┐┌───┐┌───┐┌───┐┌───┐ ░ \n",
      "qr0_1: |0>─────┤ X ├┤ S ├┤ H ├┤ T ├┤ H ├─░─\n",
      "          ┌───┐└───┘└───┘└───┘└───┘└───┘ ░ \n",
      "qr0_2: |0>┤ H ├──■───────────────────────░─\n",
      "          └───┘┌─┴─┐┌───┐┌───┐┌───┐┌───┐ ░ \n",
      "qr0_3: |0>─────┤ X ├┤ S ├┤ H ├┤ T ├┤ H ├─░─\n",
      "               └───┘└───┘└───┘└───┘└───┘ ░ \n",
      " cr0_0: 0 ═════════════════════════════════\n",
      "                                           \n",
      " cr0_1: 0 ═════════════════════════════════\n",
      "                                           \n",
      " cr0_2: 0 ═════════════════════════════════\n",
      "                                           \n",
      " cr0_3: 0 ═════════════════════════════════\n",
      "                                           \n",
      "          ┌───┐                            ░ \n",
      "qr1_0: |0>┤ H ├──■─────────────────────────░─\n",
      "          └───┘┌─┴─┐┌───┐┌───┐┌─────┐┌───┐ ░ \n",
      "qr1_1: |0>─────┤ X ├┤ S ├┤ H ├┤ Tdg ├┤ H ├─░─\n",
      "          ┌───┐└───┘└───┘└───┘└─────┘└───┘ ░ \n",
      "qr1_2: |0>┤ H ├──■─────────────────────────░─\n",
      "          └───┘┌─┴─┐┌───┐┌───┐┌─────┐┌───┐ ░ \n",
      "qr1_3: |0>─────┤ X ├┤ S ├┤ H ├┤ Tdg ├┤ H ├─░─\n",
      "               └───┘└───┘└───┘└─────┘└───┘ ░ \n",
      " cr1_0: 0 ═══════════════════════════════════\n",
      "                                             \n",
      " cr1_1: 0 ═══════════════════════════════════\n",
      "                                             \n",
      " cr1_2: 0 ═══════════════════════════════════\n",
      "                                             \n",
      " cr1_3: 0 ═══════════════════════════════════\n",
      "                                             \n",
      "          ┌───┐     ┌───┐                ░ \n",
      "qr2_0: |0>┤ H ├──■──┤ H ├────────────────░─\n",
      "          └───┘┌─┴─┐├───┤┌───┐┌───┐┌───┐ ░ \n",
      "qr2_1: |0>─────┤ X ├┤ S ├┤ H ├┤ T ├┤ H ├─░─\n",
      "          ┌───┐└───┘├───┤└───┘└───┘└───┘ ░ \n",
      "qr2_2: |0>┤ H ├──■──┤ H ├────────────────░─\n",
      "          └───┘┌─┴─┐├───┤┌───┐┌───┐┌───┐ ░ \n",
      "qr2_3: |0>─────┤ X ├┤ S ├┤ H ├┤ T ├┤ H ├─░─\n",
      "               └───┘└───┘└───┘└───┘└───┘ ░ \n",
      " cr2_0: 0 ═════════════════════════════════\n",
      "                                           \n",
      " cr2_1: 0 ═════════════════════════════════\n",
      "                                           \n",
      " cr2_2: 0 ═════════════════════════════════\n",
      "                                           \n",
      " cr2_3: 0 ═════════════════════════════════\n",
      "                                           \n",
      "          ┌───┐     ┌───┐                  ░ \n",
      "qr3_0: |0>┤ H ├──■──┤ H ├──────────────────░─\n",
      "          └───┘┌─┴─┐├───┤┌───┐┌─────┐┌───┐ ░ \n",
      "qr3_1: |0>─────┤ X ├┤ S ├┤ H ├┤ Tdg ├┤ H ├─░─\n",
      "          ┌───┐└───┘├───┤└───┘└─────┘└───┘ ░ \n",
      "qr3_2: |0>┤ H ├──■──┤ H ├──────────────────░─\n",
      "          └───┘┌─┴─┐├───┤┌───┐┌─────┐┌───┐ ░ \n",
      "qr3_3: |0>─────┤ X ├┤ S ├┤ H ├┤ Tdg ├┤ H ├─░─\n",
      "               └───┘└───┘└───┘└─────┘└───┘ ░ \n",
      " cr3_0: 0 ═══════════════════════════════════\n",
      "                                             \n",
      " cr3_1: 0 ═══════════════════════════════════\n",
      "                                             \n",
      " cr3_2: 0 ═══════════════════════════════════\n",
      "                                             \n",
      " cr3_3: 0 ═══════════════════════════════════\n",
      "                                             \n"
     ]
    }
   ],
   "source": [
    "Stheory=2*np.sqrt(2) #theoretic maximal value for CHSH inequality\n",
    "circuitstring=['00','01','10','11'] #measurement settings\n",
    "dictStates=['00','01','10','11'] #output states of two pairs\n",
    "\n",
    "\n",
    "\n",
    "#The states outputed by the IBM machine are encoded as hex integer, and order of qubits is reversed, e.g. qubit 0 corresponds to last bit of state. Here, we reverse the order to get the right result, e.g. first physical qubit corresponds to first bit of state\n",
    "orderStates=[] #maps hex numbers from memory into state string with right order, first qubit corresponds to first bit in state string\n",
    "allStates=[] #all states measured in circuit\n",
    "for i in range(Nstates**Nparallel):\n",
    "    orderStates.append(format(i, '0'+str(Nparallel*2)+'b')[::-1]) #reverse order to fix inverse numbering output by IBM machine\n",
    "    #memoryOrderStates.append(format(i, '0'+str(Nparallel*2)+'b'))\n",
    "    allStates.append(format(i, '0'+str(Nparallel*2)+'b'))\n",
    "    \n",
    "#sets all states k to one that identify with state of pair j for parallel measured qubit pair i mapStatesToParallel[i][j][k]\n",
    "mapStatesToParallel=np.zeros([Nparallel,NmeasurementSettings,Nstates**Nparallel])\n",
    "for i in range(Nparallel):\n",
    "    for j in range(Nstates):\n",
    "        for k in range(Nstates**Nparallel):\n",
    "            if(allStates[k][2*i:2*(i+1)]==dictStates[j]):\n",
    "                mapStatesToParallel[i][j][k]=1\n",
    "\n",
    "                \n",
    "                \n",
    "\n",
    "\n",
    "#maps measurement results for two quibit measurement 0 or 1 to either +1 or -1. This is used to generate the expectation value.\n",
    "#stands for bit result ket(00) --> 1, ket(01)-->-1  ket(10)-->-1 ket(11)-->1\n",
    "mappingBitResultToPM=np.array([1,-1,-1,1]) \n",
    "\n",
    "#define CHSHS inequality. We have 4 terms ZZ, ZX, XZ, XX, each generated by one of the circuits. We now assign three terms with +1, and one with -1. \n",
    "# The factors are multiplied with the average value of the respective circuits\n",
    "if(mode==0):\n",
    "    CHSHfactors=np.array([1,1,1,-1])\n",
    "elif(mode==1):\n",
    "    CHSHfactors=np.array([1,1,-1,1])\n",
    "\n",
    "\n",
    "\n",
    "qr=[None for i in range(NmeasurementSettings)]\n",
    "cr=[None for i in range(NmeasurementSettings)]\n",
    "circuit=[None for i in range(NmeasurementSettings)]\n",
    "\n",
    "#first step generates Bell state 00 + 11 by using a Hadamard and CNOT\n",
    "\n",
    "for i in range(NmeasurementSettings):\n",
    "    qr[i] = QuantumRegister(2*Nparallel, 'qr'+str(i))\n",
    "    cr[i] = ClassicalRegister(2*Nparallel, 'cr'+str(i))\n",
    "    circuit[i] = QuantumCircuit(qr[i], cr[i])\n",
    "    for j in range(Nparallel):\n",
    "        circuit[i].h(qr[i][2*j])\n",
    "        circuit[i].cx(qr[i][2*j], qr[i][2*j+1])\n",
    "\n",
    "    #Next, implement measurements settings\n",
    "    #Here, we generate circuits that implement rotations in the desired basis, and then measure in the computation basis\n",
    "    #two ways to generate CHSH circuit\n",
    "if(mode==0): #maximal violation\n",
    "#four measurement settings, generate four circuits\n",
    "    #ZW\n",
    "    current=0\n",
    "    for j in range(Nparallel):\n",
    "        circuit[current].s(qr[current][2*j+1])\n",
    "        circuit[current].h(qr[current][2*j+1])\n",
    "        circuit[current].t(qr[current][2*j+1])\n",
    "        circuit[current].h(qr[current][2*j+1])\n",
    "\n",
    "    #ZV\n",
    "    current=1\n",
    "    for j in range(Nparallel):\n",
    "        circuit[current].s(qr[current][2*j+1])\n",
    "        circuit[current].h(qr[current][2*j+1])\n",
    "        circuit[current].tdg(qr[current][2*j+1])\n",
    "        circuit[current].h(qr[current][2*j+1])\n",
    "\n",
    "\n",
    "    #XW\n",
    "    current=2\n",
    "    for j in range(Nparallel):\n",
    "        circuit[current].h(qr[current][2*j])\n",
    "        circuit[current].s(qr[current][2*j+1])\n",
    "        circuit[current].h(qr[current][2*j+1])\n",
    "        circuit[current].t(qr[current][2*j+1])\n",
    "        circuit[current].h(qr[current][2*j+1])\n",
    "\n",
    "    #ZV\n",
    "    current=3\n",
    "    for j in range(Nparallel):\n",
    "        circuit[current].h(qr[current][2*j])\n",
    "        circuit[current].s(qr[current][2*j+1])\n",
    "        circuit[current].h(qr[current][2*j+1])\n",
    "        circuit[current].tdg(qr[current][2*j+1])\n",
    "        circuit[current].h(qr[current][2*j+1])\n",
    "\n",
    "elif(mode==1): #does not generate maximal violation, only up to 2.77\n",
    "    theta=-3*np.pi/16\n",
    "    for i in range(NmeasurementSettings):\n",
    "        for j in range(Nparallel):\n",
    "            circuit[i].u3(theta,0,0,qr[i][2*j])\n",
    "\n",
    "    #ZZ gate\n",
    "    #ZX gate\n",
    "    for j in range(Nparallel):\n",
    "        circuit[1].h(qr[1][2*j+1])\n",
    "\n",
    "        #XZ gate\n",
    "        circuit[2].h(qr[2][2*j])\n",
    "\n",
    "        #XX\n",
    "        circuit[3].h(qr[3][2*j])\n",
    "        circuit[3].h(qr[3][2*j+1])\n",
    "    \n",
    "    \n",
    "    \n",
    "for i in range(NmeasurementSettings):\n",
    "    circuit[i].barrier()\n",
    "#generate circuits with measurements\n",
    "circuitMeas=[circuit[i].copy() for i in range(NmeasurementSettings)] \n",
    "for i in range(NmeasurementSettings):\n",
    "    circuitMeas[i].measure(qr[i], cr[i])\n",
    "    \n",
    "for i in range(NmeasurementSettings):\n",
    "    print(circuit[i].draw()) #draw circuits without measurements"
   ]
  },
  {
   "cell_type": "code",
   "execution_count": 207,
   "metadata": {
    "scrolled": true
   },
   "outputs": [
    {
     "data": {
      "text/html": [
       "<pre style=\"word-wrap: normal;white-space: pre;background: #fff0;line-height: 1.1;font-family: &quot;Courier New&quot;,Courier,monospace\">          ┌───┐     ┌───┐                  ░ ┌─┐         \n",
       "qr3_0: |0>┤ H ├──■──┤ H ├──────────────────░─┤M├─────────\n",
       "          └───┘┌─┴─┐├───┤┌───┐┌─────┐┌───┐ ░ └╥┘┌─┐      \n",
       "qr3_1: |0>─────┤ X ├┤ S ├┤ H ├┤ Tdg ├┤ H ├─░──╫─┤M├──────\n",
       "          ┌───┐└───┘├───┤└───┘└─────┘└───┘ ░  ║ └╥┘┌─┐   \n",
       "qr3_2: |0>┤ H ├──■──┤ H ├──────────────────░──╫──╫─┤M├───\n",
       "          └───┘┌─┴─┐├───┤┌───┐┌─────┐┌───┐ ░  ║  ║ └╥┘┌─┐\n",
       "qr3_3: |0>─────┤ X ├┤ S ├┤ H ├┤ Tdg ├┤ H ├─░──╫──╫──╫─┤M├\n",
       "               └───┘└───┘└───┘└─────┘└───┘ ░  ║  ║  ║ └╥┘\n",
       " cr3_0: 0 ════════════════════════════════════╩══╬══╬══╬═\n",
       "                                                 ║  ║  ║ \n",
       " cr3_1: 0 ═══════════════════════════════════════╩══╬══╬═\n",
       "                                                    ║  ║ \n",
       " cr3_2: 0 ══════════════════════════════════════════╩══╬═\n",
       "                                                       ║ \n",
       " cr3_3: 0 ═════════════════════════════════════════════╩═\n",
       "                                                         </pre>"
      ],
      "text/plain": [
       "<qiskit.visualization.text.TextDrawing at 0x189db60d5c0>"
      ]
     },
     "execution_count": 207,
     "metadata": {},
     "output_type": "execute_result"
    }
   ],
   "source": [
    "plotmeas=3\n",
    "fig=circuitMeas[plotmeas].draw()\n",
    "fig"
   ]
  },
  {
   "cell_type": "code",
   "execution_count": 208,
   "metadata": {
    "scrolled": true
   },
   "outputs": [
    {
     "data": {
      "text/plain": [
       "[2.8284271247461925,\n",
       " 2.8284271247461903,\n",
       " -2.220446049250313e-15,\n",
       " [array([0.4267767, 0.0732233, 0.0732233, 0.4267767]),\n",
       "  array([0.4267767, 0.0732233, 0.0732233, 0.4267767]),\n",
       "  array([0.4267767, 0.0732233, 0.0732233, 0.4267767]),\n",
       "  array([0.0732233, 0.4267767, 0.4267767, 0.0732233])]]"
      ]
     },
     "execution_count": 208,
     "metadata": {},
     "output_type": "execute_result"
    }
   ],
   "source": [
    "# Run the quantum circuit on a statevector simulator backend\n",
    "sv_simulator = Aer.get_backend('statevector_simulator')\n",
    "\n",
    "#to generate state, use circuits without measurement\n",
    "outputvector=[None for i in range(NmeasurementSettings)]\n",
    "for i in range(NmeasurementSettings):\n",
    "    # Execute the circuit\n",
    "    jobStatevector = execute(circuit[i], sv_simulator)\n",
    "\n",
    "    # Get the result\n",
    "    resultStatevector = jobStatevector.result()\n",
    "    outputstate = resultStatevector.get_statevector(circuit[i], decimals=20)\n",
    "    outputvector[i]=outputstate\n",
    "    \n",
    "#print(outputvector)\n",
    "\n",
    "\n",
    "\n",
    "probabilities=np.abs(np.array(outputvector))**2 #probablities of all states\n",
    "\n",
    "#map probabilities to one pair of 00,01,10,11\n",
    "probabilitiesMappedToPair=[np.sum(np.sum(mapStatesToParallel,axis=0)*probabilities[i],axis=1)/Nparallel for i in range(NmeasurementSettings)]\n",
    "\n",
    "theoryCountsMappedToPair=[{} for i in range(NmeasurementSettings)]\n",
    "for i in range(NmeasurementSettings):\n",
    "    for m in range(Nstates):\n",
    "        theoryCountsMappedToPair[i][dictStates[m]]=probabilitiesMappedToPair[i][m]\n",
    "\n",
    "mappedtoZZ=probabilitiesMappedToPair*mappingBitResultToPM #map each state to a expectation Value of ZZ\n",
    "summedOverEachTerm=np.sum(mappedtoZZ,axis=1) #sum over result of each measurement Setting\n",
    "S=np.sum(summedOverEachTerm*CHSHfactors) #mulitiply with CHSH factors\n",
    "[S,Stheory,Stheory-S,probabilitiesMappedToPair] #outputs inequality, theory value, difference between output and thoery, and the probabilities of each circuit\n"
   ]
  },
  {
   "cell_type": "code",
   "execution_count": 209,
   "metadata": {},
   "outputs": [
    {
     "data": {
      "text/plain": [
       "'\\n#generate transpiler\\nif(len(initial_layout)==0):\\n    trans=transpile(allcircuits,backend)#,initial_layout=[0,1]\\nelse:\\n    trans=transpile(allcircuits,backend,initial_layout=initial_layout)\\n'"
      ]
     },
     "execution_count": 209,
     "metadata": {},
     "output_type": "execute_result"
    }
   ],
   "source": [
    "#we run the NmeasurementSettings each Nrepeatcircuits times to generate more data per run on the IBM machine\n",
    "allcircuits=flatten([[circuitMeas[j].copy() for j in range(NmeasurementSettings)] for i in range(Nrepeatcircuits)])\n",
    "for i in range(Nrepeatcircuits):\n",
    "    for j in range(NmeasurementSettings):\n",
    "        allcircuits[i*NmeasurementSettings+j].name=\"CircuitSetting\"+str(j)+\"Repeat\"+str(i)\n",
    "        \n",
    "        \n",
    "\"\"\"\n",
    "#generate transpiler\n",
    "if(len(initial_layout)==0):\n",
    "    trans=transpile(allcircuits,backend)#,initial_layout=[0,1]\n",
    "else:\n",
    "    trans=transpile(allcircuits,backend,initial_layout=initial_layout)\n",
    "\"\"\""
   ]
  },
  {
   "cell_type": "code",
   "execution_count": 210,
   "metadata": {},
   "outputs": [
    {
     "name": "stdout",
     "output_type": "stream",
     "text": [
      "Run on IBM backend ibmq_vigo\n",
      "Run with initial_layout [0, 1, 3, 4]\n",
      "IBM time to submit to queue 7.185425519943237\n"
     ]
    }
   ],
   "source": [
    "#jobIBMqx2 = execute(circuitMeas, ibmqx2, shots=shots,memory=True)#,meas_return='single',meas_level=0\n",
    "starttime=time.time()\n",
    "if(local==True):\n",
    "    print(\"Run with noise models of\",machine,\"locally\")\n",
    "    if(len(initial_layout)==0):\n",
    "        job = execute(allcircuits, backendRun, shots=shots,memory=memory,\n",
    "                  coupling_map=coupling_map,\n",
    "                  noise_model=noise_model,\n",
    "                  basis_gates=basis_gates)\n",
    "    else:\n",
    "        job = execute(allcircuits, backendRun, shots=shots,memory=memory,\n",
    "                  coupling_map=coupling_map,\n",
    "                  noise_model=noise_model,\n",
    "                  basis_gates=basis_gates,initial_layout=initial_layout)\n",
    "else:\n",
    "    print(\"Run on IBM backend\",machine)\n",
    "    if(len(initial_layout)==0):\n",
    "        print(\"Run without initial_layout\")\n",
    "        job =execute(allcircuits,backendRun, shots=shots,memory=memory)\n",
    "    else:\n",
    "        print(\"Run with initial_layout\",initial_layout)\n",
    "        job =execute(allcircuits,backendRun, shots=shots,memory=memory,initial_layout=initial_layout)\n",
    "\n",
    "    print(\"IBM time to submit to queue\",time.time()-starttime)"
   ]
  },
  {
   "cell_type": "code",
   "execution_count": 211,
   "metadata": {},
   "outputs": [
    {
     "name": "stdout",
     "output_type": "stream",
     "text": [
      "Waiting for job to finish and retrieve data\n",
      "Final wait time 691.918653011322\n",
      "Time taken to run on machine 633.8586142063141\n"
     ]
    }
   ],
   "source": [
    "# Grab the results from the job.\n",
    "print(\"Waiting for job to finish and retrieve data\")\n",
    "starttime=time.time()\n",
    "result = job.result()\n",
    "waittime=time.time()-starttime\n",
    "print(\"Final wait time\",time.time()-starttime)\n",
    "time_taken=result.time_taken\n",
    "date=result.date\n",
    "print(\"Time taken to run on machine\",time_taken)"
   ]
  },
  {
   "cell_type": "code",
   "execution_count": 212,
   "metadata": {},
   "outputs": [
    {
     "name": "stdout",
     "output_type": "stream",
     "text": [
      "Start evaluation of data\n",
      "For parallel qubit pair 0 inequality measured 2.330295138888889 Theoretic value 2.8284271247461903 Difference 0.49813198585730145\n",
      "For parallel qubit pair 1 inequality measured 2.525851779513889 Theoretic value 2.8284271247461903 Difference 0.30257534523230145\n",
      "Shows experiment and theory for each measurement setting and state\n",
      "[measured probability, theoretic probability]\n",
      "Parallel qubit pair 0\n",
      "Measurement setting 0\n",
      "[[0.43065728 0.4267767 ]\n",
      " [0.10080295 0.0732233 ]\n",
      " [0.10038927 0.0732233 ]\n",
      " [0.3681505  0.4267767 ]]\n",
      "Measurement setting 1\n",
      "[[0.45758735 0.4267767 ]\n",
      " [0.07456462 0.0732233 ]\n",
      " [0.10829671 0.0732233 ]\n",
      " [0.35955132 0.4267767 ]]\n",
      "Measurement setting 2\n",
      "[[0.40144179 0.4267767 ]\n",
      " [0.08249919 0.0732233 ]\n",
      " [0.13218859 0.0732233 ]\n",
      " [0.38387044 0.4267767 ]]\n",
      "Measurement setting 3\n",
      "[[0.14146593 0.0732233 ]\n",
      " [0.34104411 0.4267767 ]\n",
      " [0.42284478 0.4267767 ]\n",
      " [0.09464518 0.0732233 ]]\n",
      "Parallel qubit pair 1\n",
      "Measurement setting 0\n",
      "[[0.41400825 0.4267767 ]\n",
      " [0.12380642 0.0732233 ]\n",
      " [0.10451931 0.0732233 ]\n",
      " [0.35766602 0.4267767 ]]\n",
      "Measurement setting 1\n",
      "[[0.45711941 0.4267767 ]\n",
      " [0.07603624 0.0732233 ]\n",
      " [0.06073676 0.0732233 ]\n",
      " [0.40610758 0.4267767 ]]\n",
      "Measurement setting 2\n",
      "[[0.44682482 0.4267767 ]\n",
      " [0.07272678 0.0732233 ]\n",
      " [0.06816949 0.0732233 ]\n",
      " [0.41227892 0.4267767 ]]\n",
      "Measurement setting 3\n",
      "[[0.13686795 0.0732233 ]\n",
      " [0.38557265 0.4267767 ]\n",
      " [0.38334825 0.4267767 ]\n",
      " [0.09421115 0.0732233 ]]\n"
     ]
    }
   ],
   "source": [
    "totalshots=shots*Nrepeatcircuits #total shots for each measurement setting\n",
    "counts=[{} for i in range(NmeasurementSettings)] #store counts for each measurement state here\n",
    "countsPairState=[[{} for i in range(NmeasurementSettings)] for p in range(Nparallel)] #store counts for each measurement state here\n",
    "for i in range(NmeasurementSettings):\n",
    "    for m in range(len(allStates)):\n",
    "        counts[i][allStates[m]]=0\n",
    "countsVec=[None for i in range(NmeasurementSettings)] #counts ordered in a numpy vector\n",
    "measuredProbablity=[None for i in range(NmeasurementSettings)] #counts normalized to one \n",
    "measuredProbabilityPairState=np.zeros([Nparallel,NmeasurementSettings,Nstates])\n",
    "shotsResult=[[None for i in range(NmeasurementSettings)] for p in range(Nparallel)] #outputs 0 or 1 for each measurement result\n",
    "measSetting=[[None for i in range(NmeasurementSettings)] for p in range(Nparallel)]#outputs 0 or 1 for each measurement Setting applied\n",
    "\n",
    "print(\"Start evaluation of data\")\n",
    "\n",
    "for i in range(NmeasurementSettings):#add up counts from each measurement\n",
    "    for k in range(Nrepeatcircuits): #add up counts from each repeated measurement setting\n",
    "        for m in range(Nstates**Nparallel):\n",
    "            tempgetcounts=result.get_counts(k*NmeasurementSettings+i)\n",
    "            if(allStates[m] in tempgetcounts):\n",
    "                counts[i][orderStates[m]]+=tempgetcounts[allStates[m]]  #maps get_counts, which uses inverse ordering of statestring to right state string order, e.g. (1100) is mapped to (0011)\n",
    "            else:\n",
    "                print(\"Warning: entry \",allStates[m],\"for circuit\",k*NmeasurementSettings+i,\"is zero\")\n",
    "            #if(allStates[m] in result.get_counts(k*NmeasurementSettings+i)):\n",
    "            #    counts[i][allStates[m]]+=result.get_counts(k*NmeasurementSettings+i)[allStates[m]] \n",
    "            #else:\n",
    "            #    print(\"Warning: entry \",allStates[m],\"for circuit\",k*NmeasurementSettings+i,\"is zero\")\n",
    "        \n",
    "#        if(k==0):\n",
    "#            counts[i] = result.get_counts(k*NmeasurementSettings+i)\n",
    "#        else:\n",
    "#            for m in range(Nstates):\n",
    "#                counts[i][dictStates[m]]+=result.get_counts(k*NmeasurementSettings+i)[dictStates[m]]\n",
    "\n",
    "                    \n",
    "    #print(counts[i])\n",
    "    countsVec[i]=np.array([counts[i][allStates[j]] if allStates[j] in counts[i] else 0 for j in range(len(allStates))]) #get counts into a numpy array\n",
    "    measuredProbablity[i]=countsVec[i]/np.sum(countsVec[i]) #measured probablity distribution\n",
    "    \n",
    "    for p in range(Nparallel):\n",
    "        measuredProbabilityPairState[p,i,:]=np.sum(measuredProbablity[i]*mapStatesToParallel[p,:,:],axis=1)\n",
    "        for m in range(len(dictStates)):\n",
    "            countsPairState[p][i][dictStates[m]]=measuredProbabilityPairState[p,i,m]\n",
    "    \n",
    "    if(memory==True): #get actual results for each shot\n",
    "        for k in range(Nrepeatcircuits):\n",
    "            if(k==0):\n",
    "                memoryResult=result.data(k*NmeasurementSettings+i)['memory'] #list of which state has been measured in hex format\n",
    "            else:\n",
    "                memoryResult+=result.data(k*NmeasurementSettings+i)['memory']\n",
    "        for p in range(Nparallel):\n",
    "            shotsResult[p][i]=[orderStates[int(memoryResult[j],16)][2*p:2*(p+1)] for j in range(totalshots)] #convert hex to int, then reorder states to canonical format and give string\n",
    "            measSetting[p][i]=[circuitstring[i] for j in range(totalshots)] #record measurement setting\n",
    "\n",
    "SResult=[]\n",
    "compareExact=[]\n",
    "for p in range(Nparallel):\n",
    "    mappedtoZZResult=measuredProbabilityPairState[p]*mappingBitResultToPM #multiply probablity distribution with prefactor of expectation value of <ZZ>\n",
    "    summedOverEachTermResult=np.sum(mappedtoZZResult,axis=1) #get each term of the inequality\n",
    "    SResult.append(np.sum(summedOverEachTermResult*CHSHfactors)) #multiply terms of inequality with prefactor of CHSH\n",
    "\n",
    "    compareExact.append([np.transpose([measuredProbabilityPairState[p,i],probabilitiesMappedToPair[i]]) for i in range(NmeasurementSettings)]) #compares result of each state for each measurementSetting against theory result\n",
    "\n",
    "    print(\"For parallel qubit pair\",p,\"inequality measured\",SResult[p],\"Theoretic value\",Stheory,\"Difference\",Stheory-SResult[p])\n",
    "\n",
    "print(\"Shows experiment and theory for each measurement setting and state\")\n",
    "print(\"[measured probability, theoretic probability]\")\n",
    "for p in range(Nparallel):\n",
    "    print(\"Parallel qubit pair\",p)\n",
    "    for i in range(NmeasurementSettings):\n",
    "        print(\"Measurement setting\",i)\n",
    "        print(compareExact[p][i])"
   ]
  },
  {
   "cell_type": "code",
   "execution_count": 213,
   "metadata": {},
   "outputs": [
    {
     "data": {
      "image/png": "[encoded data removed]",
      "text/plain": [
       "<Figure size 504x360 with 1 Axes>"
      ]
     },
     "metadata": {},
     "output_type": "display_data"
    },
    {
     "data": {
      "image/png": "[encoded data removed]",
      "text/plain": [
       "<Figure size 504x360 with 1 Axes>"
      ]
     },
     "metadata": {},
     "output_type": "display_data"
    },
    {
     "data": {
      "image/png": "[encoded data removed]",
      "text/plain": [
       "<Figure size 504x360 with 1 Axes>"
      ]
     },
     "metadata": {},
     "output_type": "display_data"
    }
   ],
   "source": [
    "#histogram of measured counts, for each term of the inequality\n",
    "for p in range(Nparallel):\n",
    "    fig=plot_histogram(countsPairState[p])\n",
    "    fig.savefig(\"Hist_\"+machine+\"_\"+dataset+\"_p\"+str(p)+\"_S\"+format(SResult[p],floatformat).replace(\".\",\"_\")+\".pdf\")\n",
    "    display(fig)\n",
    "\n",
    "fig=plot_histogram(theoryCountsMappedToPair) \n",
    "fig.savefig(\"Hist_\"+\"theory\"+\"_\"+dataset+\".pdf\")\n",
    "display(fig)\n"
   ]
  },
  {
   "cell_type": "code",
   "execution_count": 214,
   "metadata": {},
   "outputs": [
    {
     "name": "stdout",
     "output_type": "stream",
     "text": [
      "Output qubit pair 0 of parallel run\n",
      "Generating output bits of measurement results and settings for Alice and Bob\n",
      "Output qubit pair 1 of parallel run\n",
      "Generating output bits of measurement results and settings for Alice and Bob\n",
      "Finish output\n"
     ]
    }
   ],
   "source": [
    "#Output data\n",
    "\n",
    "resultA=[[] for i in range(Nparallel)] #alice measuremnt result\n",
    "resultB=[[] for i in range(Nparallel)] #bob measurement result\n",
    "measSettingA=[[] for i in range(Nparallel)] #alice measurement Setting\n",
    "measSettingB=[[] for i in range(Nparallel)] #bob measurement Setting\n",
    "\n",
    "if(memory==True):\n",
    "    for p in range(Nparallel):\n",
    "        print(\"Output qubit pair\",p,\"of parallel run\")\n",
    "        print(\"Generating output bits of measurement results and settings for Alice and Bob\")\n",
    "        shuffleCircuits=flatten([np.ones(totalshots,dtype=int)*i for i in range(NmeasurementSettings)]) #shuffle differen measurement types\n",
    "        np.random.shuffle(shuffleCircuits)\n",
    "        for i in range(NmeasurementSettings):\n",
    "            for j in range(totalshots):\n",
    "                circuitindex=shuffleCircuits[i*totalshots+j] #use shuffled index\n",
    "                resultA[p]+=shotsResult[p][circuitindex][j][0]\n",
    "                resultB[p]+=shotsResult[p][circuitindex][j][1]\n",
    "                measSettingA[p]+=measSetting[p][circuitindex][j][0]\n",
    "                measSettingB[p]+=measSetting[p][circuitindex][j][1]\n",
    "\n",
    "                #output \n",
    "        #first file contains Alice Result, Bob result, Alice Measurement settings and Bob measurement Settings\n",
    "        with open('outputCHSH_MeasurementResultAndSettings_'+machine+'_'+dataset+\"Pair_\"+str(p)+\"_S\"+format(SResult[p],floatformat).replace(\".\",\"_\")+'.txt', 'w') as the_file:\n",
    "            the_file.write(\"\".join(resultA[p])+\"\\n\")\n",
    "            the_file.write(\"\".join(resultB[p])+\"\\n\")\n",
    "            the_file.write(\"\".join(measSettingA[p])+\"\\n\")\n",
    "            the_file.write(\"\".join(measSettingB[p]))\n",
    "\n",
    "        #contains Alice Results and Bob results. Use this for the Extractor\n",
    "        with open('outputCHSH_MeasurementResult_'+machine+'_'+dataset+\"Pair_\"+str(p)+\"_S\"+format(SResult[p],floatformat).replace(\".\",\"_\")+'.txt', 'w') as the_file:\n",
    "            the_file.write(\"\".join(resultA[p])+\"\\n\")\n",
    "            the_file.write(\"\".join(resultB[p]))\n",
    "    \n",
    "    \n",
    "#dump all data in pickle\n",
    "outfile=open( \"outputCHSH_\"+machine+\"_\"+dataset+\".pcl\", \"wb\" )\n",
    "pickle.dump([date,mode,machine,shots,Nrepeatcircuits,Nstates,Nparallel,waittime,time_taken,coupling_map_pair,QubitsUsedMeasurementError,CNOTsUsedError,result,SResult,Stheory,compareExact], outfile)\n",
    "outfile.close()\n",
    "\n",
    "print(\"Finish output\")"
   ]
  },
  {
   "cell_type": "code",
   "execution_count": 215,
   "metadata": {},
   "outputs": [],
   "source": [
    "#print(result.get_counts(0))\n",
    "#x=result.data(0)['memory']\n",
    "#print(np.sum([int(x[j],16)==1 for j in range(8192)]))\n",
    "#print(orderStates[1])"
   ]
  },
  {
   "cell_type": "code",
   "execution_count": null,
   "metadata": {},
   "outputs": [],
   "source": []
  },
  {
   "cell_type": "code",
   "execution_count": null,
   "metadata": {},
   "outputs": [],
   "source": []
  },
  {
   "cell_type": "code",
   "execution_count": null,
   "metadata": {},
   "outputs": [],
   "source": []
  },
  {
   "cell_type": "code",
   "execution_count": null,
   "metadata": {},
   "outputs": [],
   "source": []
  },
  {
   "cell_type": "code",
   "execution_count": null,
   "metadata": {},
   "outputs": [],
   "source": []
  },
  {
   "cell_type": "code",
   "execution_count": null,
   "metadata": {},
   "outputs": [],
   "source": []
  },
  {
   "cell_type": "code",
   "execution_count": null,
   "metadata": {},
   "outputs": [],
   "source": []
  },
  {
   "cell_type": "code",
   "execution_count": null,
   "metadata": {},
   "outputs": [],
   "source": []
  },
  {
   "cell_type": "code",
   "execution_count": null,
   "metadata": {},
   "outputs": [],
   "source": []
  }
 ],
 "metadata": {
  "kernelspec": {
   "display_name": "Python 3",
   "language": "python",
   "name": "python3"
  },
  "language_info": {
   "codemirror_mode": {
    "name": "ipython",
    "version": 3
   },
   "file_extension": ".py",
   "mimetype": "text/x-python",
   "name": "python",
   "nbconvert_exporter": "python",
   "pygments_lexer": "ipython3",
   "version": "3.6.7"
  }
 },
 "nbformat": 4,
 "nbformat_minor": 2
}
