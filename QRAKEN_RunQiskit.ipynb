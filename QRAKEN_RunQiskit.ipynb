{
 "cells": [
  {
   "cell_type": "code",
   "execution_count": 27,
   "metadata": {},
   "outputs": [
    {
     "data": {
      "text/plain": [
       "{'qiskit-terra': '0.9.0',\n",
       " 'qiskit-ignis': '0.2.0',\n",
       " 'qiskit-aqua': '0.6.0',\n",
       " 'qiskit': '0.12.1',\n",
       " 'qiskit-aer': '0.3.0',\n",
       " 'qiskit-ibmq-provider': '0.3.3'}"
      ]
     },
     "execution_count": 27,
     "metadata": {},
     "output_type": "execute_result"
    }
   ],
   "source": [
    "## QRAKEN: Quantum Random Keys via Entanglement. QRAKEN is a certified quantum random number generator for the Qiskit framework.\n",
    "## Repository: https://github.com/HermanniH/QRAKEN\n",
    "## Qiskit backend code written by Tobias Haug, comments to tobias.haug@u.nus.edu\n",
    "## QRAKEN members: Tobias Haug, Hermanni Heimonen, Kishor Bharti\n",
    "\n",
    "%matplotlib inline\n",
    "# standard-ish Qiskit libraries\n",
    "import qiskit\n",
    "from qiskit import QuantumRegister, ClassicalRegister, QuantumCircuit, execute, Aer, IBMQ\n",
    "\n",
    "#Insert IBMQ account string here\n",
    "#IBMQ.save_account('put code here',overwrite=True)\n",
    "\n",
    "\n",
    "import time\n",
    "import pickle\n",
    "\n",
    "\n",
    "import numpy as np\n",
    "import binascii\n",
    "# about transpiling, compiling, and executing\n",
    "from qiskit.compiler import transpile\n",
    "\n",
    "# For graphs\n",
    "from qiskit.tools.jupyter import *\n",
    "from qiskit.visualization import *\n",
    "\n",
    "# Aer noise models\n",
    "from qiskit.providers.aer import noise\n",
    "\n",
    "\n",
    "\n",
    "def flatten(l):\n",
    "    return [item for sublist in l for item in sublist]\n",
    "\n",
    "qiskit.__qiskit_version__"
   ]
  },
  {
   "cell_type": "code",
   "execution_count": 28,
   "metadata": {},
   "outputs": [],
   "source": [
    "#set parameters\n",
    "local=False #run locally (simulation) or on IBM (actual quantum simulation)\n",
    "\n",
    "\n",
    "designate_coupling_map_pair=[] #empty list to choose best solution according to errors of CNOT and read-out error\n",
    "#designate_coupling_map_pair=[[0,1]]  #set which qubits to use on machine, enter as a pair of two coupled together, must be of form [[0,1]] or [[0,1],[3,4]]\n",
    "\n",
    "#designate_coupling_map_pair=[[0,1],[3,4]]  #set which qubits to use on machine, enter as a pair of two coupled together, must be of form [[0,1]] or [[0,1],[3,4]]\n",
    "\n",
    "\n",
    "\n",
    "\n",
    "machine='ibmqx2'#which IBM machine to use #ibmqx2 #ibmq_vigo #'ibmq_ourense'#'ibmq_16_melbourne' #qasm_simulator\n",
    "    \n",
    "dataset=\"Test2\" #name of dataset\n",
    "\n",
    "\n",
    "    \n",
    "\n",
    "mode=0 #use which state preparation scheme, 0: maximal violation, 1: scheme with less violation \n",
    "\n",
    "if(mode!=0): #add mode to dataset name\n",
    "    dataset+=\"m\"+str(mode)\n",
    "\n",
    "shots=2**13 #should not be larger than 8192 or 2**13\n",
    "Nrepeatcircuits=0 #run all circuits how often. For zero, runs them the maximal amount, else specifiy. Maximal amount is limited by specific IBMQ machine\n",
    "\n",
    "for i in range(len(designate_coupling_map_pair)):\n",
    "    if(len(designate_coupling_map_pair[i])!=2):\n",
    "        raise NameError(\"designate_coupling_map_pair should empty list or a list of consisting of a list of two numbers, e.g. [[0,1]] or [[0,1],[3,4]]\")\n",
    "\n",
    "\n",
    "if(local==True): #flag dataset if run locally\n",
    "    dataset=\"Simulated_\"+dataset\n",
    "\n"
   ]
  },
  {
   "cell_type": "code",
   "execution_count": 29,
   "metadata": {},
   "outputs": [
    {
     "name": "stderr",
     "output_type": "stream",
     "text": [
      "/home/kishor/anaconda3/envs/Qiskit/lib/python3.7/site-packages/qiskit/providers/ibmq/ibmqfactory.py:181: UserWarning: Credentials are already in use. The existing account in the session will be replaced.\n",
      "  warnings.warn('Credentials are already in use. The existing '\n"
     ]
    },
    {
     "name": "stdout",
     "output_type": "stream",
     "text": [
      "Max shots set 8192 , Max shots allowed 8192\n",
      "repeated circuits (Nrepeatcircuits) 18 , Maximum value allowed for Nrepeatcircuits 18\n",
      "Number circuits set 72 , Max circuits allowed 75\n"
     ]
    }
   ],
   "source": [
    "floatformat='02.7f' #format to print out floats\n",
    "NmeasurementSettings=4 #number of circuits of Bell inequality\n",
    "Nstates=4 #number of states measured\n",
    "memory=True #get data of all shots\n",
    "\n",
    "\n",
    "\n",
    "#Load credentials\n",
    "IBMQ.load_account() \n",
    "if(local==True):\n",
    "    backendRun = Aer.get_backend('qasm_simulator')\n",
    "    #get noise and coupling map for simulation\n",
    "    backend = IBMQ.get_provider().get_backend(machine)\n",
    "    backendConfig=backend.configuration()\n",
    "    properties = backend.properties()\n",
    "    coupling_map = backendConfig.coupling_map\n",
    "    noise_model = noise.device.basic_device_noise_model(properties)\n",
    "    basis_gates = noise_model.basis_gates\n",
    "    \n",
    "\n",
    "else:\n",
    "    backend = IBMQ.get_provider().get_backend(machine) #get IBM backend\n",
    "    backendRun=backend\n",
    "    backendConfig=backend.configuration()\n",
    "\n",
    "if(Nrepeatcircuits==0):\n",
    "    Nrepeatcircuits=backendConfig.max_experiments//NmeasurementSettings\n",
    "    \n",
    "\n",
    "\n",
    "\n",
    "NallCircuits=Nrepeatcircuits*NmeasurementSettings #should not be larger than backend.configuration().max_experiments\n",
    "     \n",
    "maxqubits=backendConfig.n_qubits #maximum number of qubits allowed in machine\n",
    "\n",
    "\n",
    "\n",
    "\n",
    "if(memory==True):\n",
    "    if(backendConfig.memory==False):\n",
    "        print(\"Error: Memory not supported by machine\",machine, \"cannot output any bitstrings for randon number generation\")\n",
    "        memory=False\n",
    "    \n",
    "if(local==False):\n",
    "    print(\"Max shots set\",shots,\", Max shots allowed\",backendConfig.max_shots)\n",
    "    print(\"repeated circuits (Nrepeatcircuits)\",Nrepeatcircuits,\", Maximum value allowed for Nrepeatcircuits\",backendConfig.max_experiments//NmeasurementSettings)\n",
    "    print(\"Number circuits set\",NallCircuits,\", Max circuits allowed\",backendConfig.max_experiments)\n",
    "    if(shots>backendConfig.max_shots):\n",
    "        raise NameError(\"shots number not supported by machine, reduce to\",backendConfig.max_shots)\n",
    "    if(NallCircuits>backendConfig.max_experiments):\n",
    "        raise NameError(\"Number circuits too large, try reducing Nrepeatcircuits to\",backendConfig.max_experiments//NmeasurementSettings)\n",
    "\n",
    "    if(len(flatten(designate_coupling_map_pair))>maxqubits):\n",
    "        raise NameError(\"Number of parallelized qubit pairs too large, try reducing designate_coupling_map_pair to an empty list or restrict entries to\",maxqubits)\n",
    "\n"
   ]
  },
  {
   "cell_type": "code",
   "execution_count": 30,
   "metadata": {},
   "outputs": [
    {
     "data": {
      "application/vnd.jupyter.widget-view+json": {
       "model_id": "32255eb8bc22415c8db1b0aa338282b4",
       "version_major": 2,
       "version_minor": 0
      },
      "text/plain": [
       "VBox(children=(HTML(value=\"<h2 style ='color:#ffffff; background-color:#000000;padding-top: 1%; padding-bottom…"
      ]
     },
     "metadata": {},
     "output_type": "display_data"
    }
   ],
   "source": [
    "%qiskit_backend_overview"
   ]
  },
  {
   "cell_type": "code",
   "execution_count": 31,
   "metadata": {},
   "outputs": [
    {
     "data": {
      "application/vnd.jupyter.widget-view+json": {
       "model_id": "dfeef5bea8ea44229b8f1c03f4440c0b",
       "version_major": 2,
       "version_minor": 0
      },
      "text/plain": [
       "VBox(children=(HTML(value=\"<h1 style='color:#ffffff;background-color:#000000;padding-top: 1%;padding-bottom: 1…"
      ]
     },
     "metadata": {},
     "output_type": "display_data"
    },
    {
     "data": {
      "text/plain": [
       "<IBMQBackend('ibmqx2') from IBMQ(hub='ibm-q', group='open', project='main')>"
      ]
     },
     "execution_count": 31,
     "metadata": {},
     "output_type": "execute_result"
    }
   ],
   "source": [
    "backend"
   ]
  },
  {
   "cell_type": "code",
   "execution_count": 32,
   "metadata": {},
   "outputs": [
    {
     "name": "stdout",
     "output_type": "stream",
     "text": [
      "Find best Layout of qubit pairs from read-out errors and CNOT errors\n",
      "Maximal number of pairs in Layout 2 , there exist 5 possible solutions\n",
      "Estimate errors of possible layout solutions\n",
      "Best Layout with estimated Error 0.09484657366244542\n"
     ]
    },
    {
     "data": {
      "text/plain": [
       "array([[0, 1],\n",
       "       [2, 3]])"
      ]
     },
     "execution_count": 32,
     "metadata": {},
     "output_type": "execute_result"
    }
   ],
   "source": [
    "if(len(designate_coupling_map_pair)!=0): #choose best layout from error map\n",
    "    print(\"Use user-defined qubit pairs\",designate_coupling_map_pair)\n",
    "    coupling_map_pair=designate_coupling_map_pair\n",
    "else:\n",
    "    print(\"Find best Layout of qubit pairs from read-out errors and CNOT errors\")\n",
    "    #Check for Errors in different qubits and couplings, and choose best ones\n",
    "    propertiesQubits=backend.properties().qubits\n",
    "    readout_errorList=[] #readout error from each qubit\n",
    "    for i in range(maxqubits):\n",
    "        for j in range(len(propertiesQubits[i])):\n",
    "            if(propertiesQubits[i][j].name==\"readout_error\"):\n",
    "                readout_errorList.append(propertiesQubits[i][j].value)\n",
    "    couplingMapFull=np.unique(np.sort(backendConfig.coupling_map,axis=1),axis=0) #returns coupling map of only unique entries\n",
    "\n",
    "    graphStructure=couplingMapFull\n",
    "\n",
    "    propertiesGates=backend.properties().gates\n",
    "\n",
    "    cNotErrorUnsortedList=[] #CNOT error of coupled qubits\n",
    "    for i in range(len(propertiesGates)):\n",
    "        for j in range(len(couplingMapFull)):\n",
    "            if(np.all(np.sort(propertiesGates[i].qubits)==couplingMapFull[j])):\n",
    "                for k in range(len(propertiesGates[i].parameters)):\n",
    "                    if(propertiesGates[i].parameters[k].name==\"gate_error\"):\n",
    "                        cNotErrorUnsortedList.append([couplingMapFull[j],propertiesGates[i].parameters[k].value])\n",
    "\n",
    "    sortedcNotErrorIndex=np.unique([cNotErrorUnsortedList[i][0] for i in range(len(cNotErrorUnsortedList))],return_index=True,axis=0)[1]   #remove from cNotError lis doubled entries            \n",
    "    cNotErrorList=[cNotErrorUnsortedList[sortedcNotErrorIndex[i]] for i in range(len(sortedcNotErrorIndex))]\n",
    "\n",
    "def recursiveFindPairs(selectedPairs,couplingMap):\n",
    "    newSelectedPairsList=[]\n",
    "    levelCouplingMap=np.array(couplingMap)\n",
    "    for i in range(len(couplingMap)):\n",
    "        levelCouplingMap=np.array(levelCouplingMap)\n",
    "\n",
    "        newSelectedPairs=np.array(selectedPairs)\n",
    "        if(len(selectedPairs)>0):\n",
    "            newSelectedPairs=np.append(newSelectedPairs,[couplingMap[i]],axis=0)\n",
    "        else:\n",
    "            newSelectedPairs=np.array([couplingMap[i]])\n",
    "        \n",
    "        levelCouplingMap=np.delete(levelCouplingMap,0,axis=0)\n",
    "        \n",
    "        newCouplingMap=np.array(levelCouplingMap)\n",
    "        \n",
    "        deleteUnavailableCouplings=np.nonzero((newCouplingMap==couplingMap[i][0]) | (newCouplingMap==couplingMap[i][1]))[0]\n",
    "        newCouplingMap=np.delete(newCouplingMap,deleteUnavailableCouplings,axis=0)\n",
    "        if(len(newCouplingMap)>0):\n",
    "            newSelectedPairsList+=recursiveFindPairs(newSelectedPairs,newCouplingMap)\n",
    "        else:\n",
    "            newSelectedPairsList.append(newSelectedPairs)\n",
    "    \n",
    "    return newSelectedPairsList\n",
    "        \n",
    "allLayouts=recursiveFindPairs([],couplingMapFull) #all possible layouts of qubit pairs in circuit\n",
    "#allLayouts \n",
    "#get layouts with maximal number of pairs\n",
    "maxLayout=np.amax([len(allLayouts[i]) for i in range(len(allLayouts))])\n",
    "maxLayoutIndexList=np.nonzero([len(allLayouts[i])==maxLayout for i in range(len(allLayouts))])[0]\n",
    "maxLayoutList=[allLayouts[maxLayoutIndexList[i]] for i in range(len(maxLayoutIndexList))]\n",
    "print(\"Maximal number of pairs in Layout\",maxLayout, \", there exist\",len(maxLayoutList),\"possible solutions\")\n",
    "#print(maxLayoutList)\n",
    "\n",
    "#estimate error by adding measurement errors and CNOT errors, ignore single qubit errors for now\n",
    "def estimateError(couplingList,readout_errorList,cNotErrorList):\n",
    "    error=0\n",
    "    for j in range(len(couplingList)):\n",
    "        for i in range(len(cNotErrorList)):\n",
    "            if(np.all(cNotErrorList[i][0]==couplingList[j])):\n",
    "                error+=cNotErrorList[i][1]\n",
    "        error+=readout_errorList[couplingList[j][0]]+readout_errorList[couplingList[j][1]]\n",
    "    \n",
    "    return error\n",
    "print(\"Estimate errors of possible layout solutions\")\n",
    "estimateErrorList=[estimateError(maxLayoutList[i],readout_errorList,cNotErrorList) for i in range(len(maxLayoutList))]\n",
    "bestIndex=np.argsort(estimateErrorList)[0]\n",
    "bestLayout=maxLayoutList[bestIndex]\n",
    "print(\"Best Layout with estimated Error\", estimateErrorList[bestIndex])\n",
    "coupling_map_pair=bestLayout\n",
    "bestLayout"
   ]
  },
  {
   "cell_type": "code",
   "execution_count": 33,
   "metadata": {},
   "outputs": [
    {
     "name": "stdout",
     "output_type": "stream",
     "text": [
      "Show error for qubits used\n",
      "Readout Error of qbit number 0 physical position 0 Error 0.011500000000000066\n",
      "Readout Error of qbit number 1 physical position 1 Error 0.016000000000000014\n",
      "Readout Error of qbit number 2 physical position 2 Error 0.020000000000000018\n",
      "Readout Error of qbit number 3 physical position 3 Error 0.014499999999999957\n",
      "\n",
      "0 [0 1] CNOT Error 0.012756327619558638\n",
      "1 [2 3] CNOT Error 0.020090246042886728\n",
      "\n",
      "Estimated error for each pair\n",
      "pair 0 [0 1] 0.04025632761955872\n",
      "pair 1 [2 3] 0.0545902460428867\n",
      "Bits Generated per run 2359296\n"
     ]
    }
   ],
   "source": [
    "initial_layout=flatten(coupling_map_pair) #layout of physical qubits used\n",
    "dataset+=\"_I\"\n",
    "for i in range(len(initial_layout)):\n",
    "    dataset+=\"_\"+str(initial_layout[i])\n",
    "    \n",
    "#get errors for qubit pairs actually used\n",
    "print(\"Show error for qubits used\")\n",
    "QubitsUsedMeasurementError=[]\n",
    "for i in range(len(coupling_map_pair)):\n",
    "    for j in range(2):\n",
    "        QubitsUsedMeasurementError.append([2*i+j,coupling_map_pair[i][j],readout_errorList[coupling_map_pair[i][j]]])\n",
    "        print(\"Readout Error of qbit number\",2*i+j,\"physical position\",coupling_map_pair[i][j],\"Error\",readout_errorList[coupling_map_pair[i][j]])\n",
    "\n",
    "print(\"\")\n",
    "CNOTsUsedError=[]\n",
    "for i in range(len(coupling_map_pair)):\n",
    "    for j in range(len(couplingMapFull)):\n",
    "        if(np.all(cNotErrorList[j][0]==np.sort(coupling_map_pair[i]))):\n",
    "            CNOTsUsedError.append([i,coupling_map_pair[i],cNotErrorList[j][1]])\n",
    "            print(i,coupling_map_pair[i],\"CNOT Error\",cNotErrorList[j][1])\n",
    "print(\"\")\n",
    "print(\"Estimated error for each pair\")\n",
    "for i in range(len(coupling_map_pair)):\n",
    "    print(\"pair\",i,coupling_map_pair[i],QubitsUsedMeasurementError[2*i][2]+QubitsUsedMeasurementError[2*i+1][2]+CNOTsUsedError[i][2])\n",
    "    \n",
    "    \n",
    "Nparallel=len(coupling_map_pair)\n",
    " \n",
    "print(\"Bits Generated per run\", Nparallel*NallCircuits*shots*2)"
   ]
  },
  {
   "cell_type": "code",
   "execution_count": 34,
   "metadata": {},
   "outputs": [
    {
     "name": "stdout",
     "output_type": "stream",
     "text": [
      "         ┌───┐                          ░ \n",
      "qr_0: |0>┤ H ├──■───────────────────────░─\n",
      "         └───┘┌─┴─┐┌───┐┌───┐┌───┐┌───┐ ░ \n",
      "qr_1: |0>─────┤ X ├┤ S ├┤ H ├┤ T ├┤ H ├─░─\n",
      "         ┌───┐└───┘└───┘└───┘└───┘└───┘ ░ \n",
      "qr_2: |0>┤ H ├──■───────────────────────░─\n",
      "         └───┘┌─┴─┐┌───┐┌───┐┌───┐┌───┐ ░ \n",
      "qr_3: |0>─────┤ X ├┤ S ├┤ H ├┤ T ├┤ H ├─░─\n",
      "              └───┘└───┘└───┘└───┘└───┘ ░ \n",
      " cr_0: 0 ═════════════════════════════════\n",
      "                                          \n",
      " cr_1: 0 ═════════════════════════════════\n",
      "                                          \n",
      " cr_2: 0 ═════════════════════════════════\n",
      "                                          \n",
      " cr_3: 0 ═════════════════════════════════\n",
      "                                          \n",
      "         ┌───┐                            ░ \n",
      "qr_0: |0>┤ H ├──■─────────────────────────░─\n",
      "         └───┘┌─┴─┐┌───┐┌───┐┌─────┐┌───┐ ░ \n",
      "qr_1: |0>─────┤ X ├┤ S ├┤ H ├┤ Tdg ├┤ H ├─░─\n",
      "         ┌───┐└───┘└───┘└───┘└─────┘└───┘ ░ \n",
      "qr_2: |0>┤ H ├──■─────────────────────────░─\n",
      "         └───┘┌─┴─┐┌───┐┌───┐┌─────┐┌───┐ ░ \n",
      "qr_3: |0>─────┤ X ├┤ S ├┤ H ├┤ Tdg ├┤ H ├─░─\n",
      "              └───┘└───┘└───┘└─────┘└───┘ ░ \n",
      " cr_0: 0 ═══════════════════════════════════\n",
      "                                            \n",
      " cr_1: 0 ═══════════════════════════════════\n",
      "                                            \n",
      " cr_2: 0 ═══════════════════════════════════\n",
      "                                            \n",
      " cr_3: 0 ═══════════════════════════════════\n",
      "                                            \n",
      "         ┌───┐     ┌───┐                ░ \n",
      "qr_0: |0>┤ H ├──■──┤ H ├────────────────░─\n",
      "         └───┘┌─┴─┐├───┤┌───┐┌───┐┌───┐ ░ \n",
      "qr_1: |0>─────┤ X ├┤ S ├┤ H ├┤ T ├┤ H ├─░─\n",
      "         ┌───┐└───┘├───┤└───┘└───┘└───┘ ░ \n",
      "qr_2: |0>┤ H ├──■──┤ H ├────────────────░─\n",
      "         └───┘┌─┴─┐├───┤┌───┐┌───┐┌───┐ ░ \n",
      "qr_3: |0>─────┤ X ├┤ S ├┤ H ├┤ T ├┤ H ├─░─\n",
      "              └───┘└───┘└───┘└───┘└───┘ ░ \n",
      " cr_0: 0 ═════════════════════════════════\n",
      "                                          \n",
      " cr_1: 0 ═════════════════════════════════\n",
      "                                          \n",
      " cr_2: 0 ═════════════════════════════════\n",
      "                                          \n",
      " cr_3: 0 ═════════════════════════════════\n",
      "                                          \n",
      "         ┌───┐     ┌───┐                  ░ \n",
      "qr_0: |0>┤ H ├──■──┤ H ├──────────────────░─\n",
      "         └───┘┌─┴─┐├───┤┌───┐┌─────┐┌───┐ ░ \n",
      "qr_1: |0>─────┤ X ├┤ S ├┤ H ├┤ Tdg ├┤ H ├─░─\n",
      "         ┌───┐└───┘├───┤└───┘└─────┘└───┘ ░ \n",
      "qr_2: |0>┤ H ├──■──┤ H ├──────────────────░─\n",
      "         └───┘┌─┴─┐├───┤┌───┐┌─────┐┌───┐ ░ \n",
      "qr_3: |0>─────┤ X ├┤ S ├┤ H ├┤ Tdg ├┤ H ├─░─\n",
      "              └───┘└───┘└───┘└─────┘└───┘ ░ \n",
      " cr_0: 0 ═══════════════════════════════════\n",
      "                                            \n",
      " cr_1: 0 ═══════════════════════════════════\n",
      "                                            \n",
      " cr_2: 0 ═══════════════════════════════════\n",
      "                                            \n",
      " cr_3: 0 ═══════════════════════════════════\n",
      "                                            \n"
     ]
    }
   ],
   "source": [
    "Stheory=2*np.sqrt(2) #theoretic maximal value for CHSH inequality\n",
    "circuitstring=['00','01','10','11'] #measurement settings\n",
    "dictStates=['00','01','10','11'] #output states of two pairs\n",
    "\n",
    "\n",
    "\n",
    "#The states outputed by the IBM machine are encoded as hex integer, and order of qubits is reversed, e.g. qubit 0 corresponds to last bit of state. Here, we reverse the order to get the right result, e.g. first physical qubit corresponds to first bit of state\n",
    "orderStates=[] #maps hex numbers from memory into state string with right order, first qubit corresponds to first bit in state string\n",
    "allStates=[] #all states measured in circuit\n",
    "for i in range(Nstates**Nparallel):\n",
    "    orderStates.append(format(i, '0'+str(Nparallel*2)+'b')[::-1]) #reverse order to fix inverse numbering output by IBM machine\n",
    "    #memoryOrderStates.append(format(i, '0'+str(Nparallel*2)+'b'))\n",
    "    allStates.append(format(i, '0'+str(Nparallel*2)+'b'))\n",
    "    \n",
    "#sets all states k to one that identify with state of pair j for parallel measured qubit pair i mapStatesToParallel[i][j][k]\n",
    "mapStatesToParallel=np.zeros([Nparallel,NmeasurementSettings,Nstates**Nparallel])\n",
    "for i in range(Nparallel):\n",
    "    for j in range(Nstates):\n",
    "        for k in range(Nstates**Nparallel):\n",
    "            if(allStates[k][2*i:2*(i+1)]==dictStates[j]):\n",
    "                mapStatesToParallel[i][j][k]=1\n",
    "\n",
    "                \n",
    "                \n",
    "\n",
    "\n",
    "#maps measurement results for two quibit measurement 0 or 1 to either +1 or -1. This is used to generate the expectation value.\n",
    "#stands for bit result ket(00) --> 1, ket(01)-->-1  ket(10)-->-1 ket(11)-->1\n",
    "mappingBitResultToPM=np.array([1,-1,-1,1]) \n",
    "\n",
    "#define CHSHS inequality. We have 4 terms ZZ, ZX, XZ, XX, each generated by one of the circuits. We now assign three terms with +1, and one with -1. \n",
    "# The factors are multiplied with the average value of the respective circuits\n",
    "if(mode==0):\n",
    "    CHSHfactors=np.array([1,1,1,-1])\n",
    "elif(mode==1):\n",
    "    CHSHfactors=np.array([1,1,-1,1])\n",
    "\n",
    "\n",
    "\n",
    "circuit=[None for i in range(NmeasurementSettings)]\n",
    "\n",
    "#first step generates Bell state 00 + 11 by using a Hadamard and CNOT\n",
    "qr = QuantumRegister(2*Nparallel, 'qr')\n",
    "cr = ClassicalRegister(2*Nparallel, 'cr')\n",
    "for i in range(NmeasurementSettings):\n",
    "    #qr[i] = QuantumRegister(2*Nparallel, 'qr'+str(i))\n",
    "    #cr[i] = ClassicalRegister(2*Nparallel, 'cr'+str(i))\n",
    "    circuit[i] = QuantumCircuit(qr, cr)\n",
    "    for j in range(Nparallel):\n",
    "        circuit[i].h(qr[2*j])\n",
    "        circuit[i].cx(qr[2*j], qr[2*j+1])\n",
    "\n",
    "    #Next, implement measurements settings\n",
    "    #Here, we generate circuits that implement rotations in the desired basis, and then measure in the computation basis\n",
    "    #two ways to generate CHSH circuit\n",
    "if(mode==0): #maximal violation\n",
    "#four measurement settings, generate four circuits\n",
    "    #ZW\n",
    "    current=0\n",
    "    for j in range(Nparallel):\n",
    "        circuit[current].s(qr[2*j+1])\n",
    "        circuit[current].h(qr[2*j+1])\n",
    "        circuit[current].t(qr[2*j+1])\n",
    "        circuit[current].h(qr[2*j+1])\n",
    "\n",
    "    #ZV\n",
    "    current=1\n",
    "    for j in range(Nparallel):\n",
    "        circuit[current].s(qr[2*j+1])\n",
    "        circuit[current].h(qr[2*j+1])\n",
    "        circuit[current].tdg(qr[2*j+1])\n",
    "        circuit[current].h(qr[2*j+1])\n",
    "\n",
    "\n",
    "    #XW\n",
    "    current=2\n",
    "    for j in range(Nparallel):\n",
    "        circuit[current].h(qr[2*j])\n",
    "        circuit[current].s(qr[2*j+1])\n",
    "        circuit[current].h(qr[2*j+1])\n",
    "        circuit[current].t(qr[2*j+1])\n",
    "        circuit[current].h(qr[2*j+1])\n",
    "\n",
    "    #ZV\n",
    "    current=3\n",
    "    for j in range(Nparallel):\n",
    "        circuit[current].h(qr[2*j])\n",
    "        circuit[current].s(qr[2*j+1])\n",
    "        circuit[current].h(qr[2*j+1])\n",
    "        circuit[current].tdg(qr[2*j+1])\n",
    "        circuit[current].h(qr[2*j+1])\n",
    "\n",
    "elif(mode==1): #does not generate maximal violation, only up to 2.77\n",
    "    theta=-3*np.pi/16\n",
    "    for i in range(NmeasurementSettings):\n",
    "        for j in range(Nparallel):\n",
    "            circuit[i].u3(theta,0,0,qr[2*j])\n",
    "\n",
    "    #ZZ gate\n",
    "    #ZX gate\n",
    "    for j in range(Nparallel):\n",
    "        circuit[1].h(qr[2*j+1])\n",
    "\n",
    "        #XZ gate\n",
    "        circuit[2].h(qr[2*j])\n",
    "\n",
    "        #XX\n",
    "        circuit[3].h(qr[2*j])\n",
    "        circuit[3].h(qr[2*j+1])\n",
    "    \n",
    "    \n",
    "    \n",
    "for i in range(NmeasurementSettings):\n",
    "    circuit[i].barrier()\n",
    "#generate circuits with measurements\n",
    "circuitMeas=[circuit[i].copy() for i in range(NmeasurementSettings)] \n",
    "for i in range(NmeasurementSettings):\n",
    "    circuitMeas[i].measure(qr, cr)\n",
    "    \n",
    "for i in range(NmeasurementSettings):\n",
    "    print(circuit[i].draw()) #draw circuits without measurements"
   ]
  },
  {
   "cell_type": "code",
   "execution_count": 35,
   "metadata": {
    "scrolled": true
   },
   "outputs": [
    {
     "data": {
      "text/html": [
       "<pre style=\"word-wrap: normal;white-space: pre;background: #fff0;line-height: 1.1;font-family: &quot;Courier New&quot;,Courier,monospace\">         ┌───┐     ┌───┐                  ░ ┌─┐         \n",
       "qr_0: |0>┤ H ├──■──┤ H ├──────────────────░─┤M├─────────\n",
       "         └───┘┌─┴─┐├───┤┌───┐┌─────┐┌───┐ ░ └╥┘┌─┐      \n",
       "qr_1: |0>─────┤ X ├┤ S ├┤ H ├┤ Tdg ├┤ H ├─░──╫─┤M├──────\n",
       "         ┌───┐└───┘├───┤└───┘└─────┘└───┘ ░  ║ └╥┘┌─┐   \n",
       "qr_2: |0>┤ H ├──■──┤ H ├──────────────────░──╫──╫─┤M├───\n",
       "         └───┘┌─┴─┐├───┤┌───┐┌─────┐┌───┐ ░  ║  ║ └╥┘┌─┐\n",
       "qr_3: |0>─────┤ X ├┤ S ├┤ H ├┤ Tdg ├┤ H ├─░──╫──╫──╫─┤M├\n",
       "              └───┘└───┘└───┘└─────┘└───┘ ░  ║  ║  ║ └╥┘\n",
       " cr_0: 0 ════════════════════════════════════╩══╬══╬══╬═\n",
       "                                                ║  ║  ║ \n",
       " cr_1: 0 ═══════════════════════════════════════╩══╬══╬═\n",
       "                                                   ║  ║ \n",
       " cr_2: 0 ══════════════════════════════════════════╩══╬═\n",
       "                                                      ║ \n",
       " cr_3: 0 ═════════════════════════════════════════════╩═\n",
       "                                                        </pre>"
      ],
      "text/plain": [
       "<qiskit.visualization.text.TextDrawing at 0x7f209b5449d0>"
      ]
     },
     "execution_count": 35,
     "metadata": {},
     "output_type": "execute_result"
    }
   ],
   "source": [
    "plotmeas=3\n",
    "fig=circuitMeas[plotmeas].draw()\n",
    "fig"
   ]
  },
  {
   "cell_type": "code",
   "execution_count": 36,
   "metadata": {
    "scrolled": true
   },
   "outputs": [
    {
     "name": "stdout",
     "output_type": "stream",
     "text": [
      "S from statevector 2.828427124746189 S from theory 2.8284271247461903 Difference 1.3322676295501878e-15\n",
      "Probabilities for each measurement setting and state\n",
      "[array([0.4267767, 0.0732233, 0.0732233, 0.4267767]), array([0.4267767, 0.0732233, 0.0732233, 0.4267767]), array([0.4267767, 0.0732233, 0.0732233, 0.4267767]), array([0.0732233, 0.4267767, 0.4267767, 0.0732233])]\n"
     ]
    }
   ],
   "source": [
    "# Run the quantum circuit on a statevector simulator backend\n",
    "sv_simulator = Aer.get_backend('statevector_simulator')\n",
    "\n",
    "#to generate state, use circuits without measurement\n",
    "outputvector=[None for i in range(NmeasurementSettings)]\n",
    "for i in range(NmeasurementSettings):\n",
    "    # Execute the circuit\n",
    "    jobStatevector = execute(circuit[i], sv_simulator)\n",
    "\n",
    "    # Get the result\n",
    "    resultStatevector = jobStatevector.result()\n",
    "    outputstate = resultStatevector.get_statevector(circuit[i], decimals=20)\n",
    "    outputvector[i]=outputstate\n",
    "    \n",
    "#print(outputvector)\n",
    "\n",
    "\n",
    "\n",
    "probabilities=np.abs(np.array(outputvector))**2 #probablities of all states\n",
    "\n",
    "#map probabilities to one pair of 00,01,10,11\n",
    "probabilitiesMappedToPair=[np.sum(np.sum(mapStatesToParallel,axis=0)*probabilities[i],axis=1)/Nparallel for i in range(NmeasurementSettings)]\n",
    "\n",
    "theoryCountsMappedToPair=[{} for i in range(NmeasurementSettings)]\n",
    "for i in range(NmeasurementSettings):\n",
    "    for m in range(Nstates):\n",
    "        theoryCountsMappedToPair[i][dictStates[m]]=probabilitiesMappedToPair[i][m]\n",
    "\n",
    "mappedtoZZ=probabilitiesMappedToPair*mappingBitResultToPM #map each state to a expectation Value of ZZ\n",
    "summedOverEachTerm=np.sum(mappedtoZZ,axis=1) #sum over result of each measurement Setting\n",
    "S=np.sum(summedOverEachTerm*CHSHfactors) #mulitiply with CHSH factors\n",
    "print(\"S from statevector\",S,\"S from theory\",Stheory,\"Difference\",Stheory-S)\n",
    "print(\"Probabilities for each measurement setting and state\")\n",
    "print(probabilitiesMappedToPair)\n",
    "#[S,Stheory,Stheory-S,probabilitiesMappedToPair] #outputs inequality, theory value, difference between output and thoery, and the probabilities of each circuit\n"
   ]
  },
  {
   "cell_type": "code",
   "execution_count": 37,
   "metadata": {},
   "outputs": [],
   "source": [
    "#we run the NmeasurementSettings each Nrepeatcircuits times to generate more data per run on the IBM machine\n",
    "allcircuits=flatten([[circuitMeas[j].copy() for j in range(NmeasurementSettings)] for i in range(Nrepeatcircuits)])\n",
    "for i in range(Nrepeatcircuits):\n",
    "    for j in range(NmeasurementSettings):\n",
    "        allcircuits[i*NmeasurementSettings+j].name=\"CircuitSetting\"+str(j)+\"Repeat\"+str(i)\n",
    "# \n",
    "#construct layout format, mapping virtual qubits qr[i] to physical qubits of initial_layout\n",
    "layout={}\n",
    "for i in range(len(initial_layout)):\n",
    "    layout[qr[i]]=int(initial_layout[i])\n",
    "#layout\n",
    "            \n",
    "#generate transpiler\n",
    "#if(len(initial_layout)==0):\n",
    "#    trans=transpile(allcircuits,backend)#,initial_layout=[0,1]\n",
    "#else:\n",
    "#    trans=transpile(allcircuits,backend,initial_layout=initial_layout)"
   ]
  },
  {
   "cell_type": "code",
   "execution_count": 38,
   "metadata": {},
   "outputs": [
    {
     "name": "stdout",
     "output_type": "stream",
     "text": [
      "Run on IBM backend ibmqx2\n",
      "Run with initial_layout [0, 1, 2, 3]\n",
      "time to submit to IBM machine queue 6.744046449661255\n",
      "current jobs waiting 7\n"
     ]
    }
   ],
   "source": [
    "#jobIBMqx2 = execute(circuitMeas, ibmqx2, shots=shots,memory=True)#,meas_return='single',meas_level=0\n",
    "starttime=time.time()\n",
    "if(local==True):\n",
    "    print(\"Run with noise models of\",machine,\"locally\")\n",
    "    if(len(layout)==0):\n",
    "        job = execute(allcircuits, backendRun, shots=shots,memory=memory,\n",
    "                  coupling_map=coupling_map,\n",
    "                  noise_model=noise_model,\n",
    "                  basis_gates=basis_gates)\n",
    "    else:\n",
    "        job = execute(allcircuits, backendRun, shots=shots,memory=memory,\n",
    "                  coupling_map=coupling_map,\n",
    "                  noise_model=noise_model,\n",
    "                  basis_gates=basis_gates,initial_layout=layout)\n",
    "else:\n",
    "    print(\"Run on IBM backend\",machine)\n",
    "    if(len(layout)==0):\n",
    "        print(\"Run without initial_layout\")\n",
    "        job =execute(allcircuits,backendRun, shots=shots,memory=memory)\n",
    "    else:\n",
    "        print(\"Run with initial_layout\",initial_layout)\n",
    "        job =execute(allcircuits,backendRun, shots=shots,memory=memory,initial_layout=layout)\n",
    "\n",
    "\n",
    "print(\"time to submit to IBM machine queue\",time.time()-starttime)\n",
    "if(local==False):\n",
    "    print(\"current jobs waiting\",backendRun.status().pending_jobs)"
   ]
  },
  {
   "cell_type": "code",
   "execution_count": 39,
   "metadata": {},
   "outputs": [
    {
     "name": "stdout",
     "output_type": "stream",
     "text": [
      "Waiting for job to finish and retrieve data\n"
     ]
    },
    {
     "name": "stderr",
     "output_type": "stream",
     "text": [
      "Error checking job status using websocket, retrying using HTTP.\n"
     ]
    },
    {
     "name": "stdout",
     "output_type": "stream",
     "text": [
      "Final wait time 1116.4397003650665\n",
      "Time taken to run on machine 631.7365717887878\n"
     ]
    }
   ],
   "source": [
    "# Grab the results from the job.\n",
    "print(\"Waiting for job to finish and retrieve data\")\n",
    "starttime=time.time()\n",
    "result = job.result()\n",
    "waittime=time.time()-starttime\n",
    "print(\"Final wait time\",waittime)\n",
    "\n",
    "date=result.date\n",
    "\n",
    "try:\n",
    "    time_taken=result.time_taken\n",
    "    print(\"Time taken to run on machine\",time_taken)\n",
    "except:\n",
    "    print(\"WARN: Cannot get time_taken from machine...\")\n",
    "    time_taken=0"
   ]
  },
  {
   "cell_type": "code",
   "execution_count": 40,
   "metadata": {},
   "outputs": [
    {
     "name": "stdout",
     "output_type": "stream",
     "text": [
      "Start evaluation of data\n",
      "For parallel qubit pair 0 inequality measured 2.4136962890625 Theoretic value 2.8284271247461903 Difference 0.4147308356836903\n",
      "For parallel qubit pair 1 inequality measured 2.592746310763889 Theoretic value 2.8284271247461903 Difference 0.23568081398230145\n",
      "Shows experiment and theory for each measurement setting and state\n",
      "[measured probability, theoretic probability]\n",
      "Parallel qubit pair 0\n",
      "Measurement setting 0\n",
      "[[0.4023234  0.4267767 ]\n",
      " [0.06722683 0.0732233 ]\n",
      " [0.06480577 0.0732233 ]\n",
      " [0.46564399 0.4267767 ]]\n",
      "Measurement setting 1\n",
      "[[0.39933946 0.4267767 ]\n",
      " [0.06663005 0.0732233 ]\n",
      " [0.11262343 0.0732233 ]\n",
      " [0.42140706 0.4267767 ]]\n",
      "Measurement setting 2\n",
      "[[0.37214491 0.4267767 ]\n",
      " [0.08230252 0.0732233 ]\n",
      " [0.09356689 0.0732233 ]\n",
      " [0.45198568 0.4267767 ]]\n",
      "Measurement setting 3\n",
      "[[0.09105767 0.0732233 ]\n",
      " [0.26150174 0.4267767 ]\n",
      " [0.4325019  0.4267767 ]\n",
      " [0.21493869 0.0732233 ]]\n",
      "Parallel qubit pair 1\n",
      "Measurement setting 0\n",
      "[[0.40430366 0.4267767 ]\n",
      " [0.06607395 0.0732233 ]\n",
      " [0.08075629 0.0732233 ]\n",
      " [0.4488661  0.4267767 ]]\n",
      "Measurement setting 1\n",
      "[[0.37313504 0.4267767 ]\n",
      " [0.09944661 0.0732233 ]\n",
      " [0.10811361 0.0732233 ]\n",
      " [0.41930474 0.4267767 ]]\n",
      "Measurement setting 2\n",
      "[[0.40216743 0.4267767 ]\n",
      " [0.11320665 0.0732233 ]\n",
      " [0.08516439 0.0732233 ]\n",
      " [0.39946153 0.4267767 ]]\n",
      "Measurement setting 3\n",
      "[[0.07529704 0.0732233 ]\n",
      " [0.44110107 0.4267767 ]\n",
      " [0.40803358 0.4267767 ]\n",
      " [0.07556831 0.0732233 ]]\n"
     ]
    }
   ],
   "source": [
    "totalshots=shots*Nrepeatcircuits #total shots for each measurement setting\n",
    "counts=[{} for i in range(NmeasurementSettings)] #store counts for each measurement state here\n",
    "countsPairState=[[{} for i in range(NmeasurementSettings)] for p in range(Nparallel)] #store counts for each measurement state here\n",
    "for i in range(NmeasurementSettings):\n",
    "    for m in range(len(allStates)):\n",
    "        counts[i][allStates[m]]=0\n",
    "countsVec=[None for i in range(NmeasurementSettings)] #counts ordered in a numpy vector\n",
    "measuredProbablity=[None for i in range(NmeasurementSettings)] #counts normalized to one \n",
    "measuredProbabilityPairState=np.zeros([Nparallel,NmeasurementSettings,Nstates])\n",
    "shotsResult=[[None for i in range(NmeasurementSettings)] for p in range(Nparallel)] #outputs 0 or 1 for each measurement result\n",
    "measSetting=[[None for i in range(NmeasurementSettings)] for p in range(Nparallel)]#outputs 0 or 1 for each measurement Setting applied\n",
    "\n",
    "print(\"Start evaluation of data\")\n",
    "\n",
    "for i in range(NmeasurementSettings):#add up counts from each measurement\n",
    "    for k in range(Nrepeatcircuits): #add up counts from each repeated measurement setting\n",
    "            tempgetcounts=result.get_counts(k*NmeasurementSettings+i)\n",
    "            for m in range(Nstates**Nparallel):\n",
    "                if(allStates[m] in tempgetcounts):\n",
    "                    counts[i][orderStates[m]]+=tempgetcounts[allStates[m]]  #maps get_counts, which uses inverse ordering of statestring to convential string order, where first qubit corresponds to first bit etc. e.g. (1100) is mapped to (0011)\n",
    "#            if(allStates[m] in tempgetcounts):\n",
    "#                counts[i][orderStates[m]]+=tempgetcounts[allStates[m]]  #maps get_counts, which uses inverse ordering of statestring to right state string order, e.g. (1100) is mapped to (0011)\n",
    "#            else:\n",
    "#                print(\"Warning: entry \",allStates[m],\"for circuit\",k*NmeasurementSettings+i,\"is zero\")\n",
    "\n",
    "            #if(allStates[m] in result.get_counts(k*NmeasurementSettings+i)):\n",
    "            #    counts[i][allStates[m]]+=result.get_counts(k*NmeasurementSettings+i)[allStates[m]] \n",
    "            #else:\n",
    "            #    print(\"Warning: entry \",allStates[m],\"for circuit\",k*NmeasurementSettings+i,\"is zero\")\n",
    "        \n",
    "#        if(k==0):\n",
    "#            counts[i] = result.get_counts(k*NmeasurementSettings+i)\n",
    "#        else:\n",
    "#            for m in range(Nstates):\n",
    "#                counts[i][dictStates[m]]+=result.get_counts(k*NmeasurementSettings+i)[dictStates[m]]\n",
    "\n",
    "                    \n",
    "    #print(counts[i])\n",
    "    countsVec[i]=np.array([counts[i][allStates[j]] if allStates[j] in counts[i] else 0 for j in range(len(allStates))]) #get counts into a numpy array\n",
    "    measuredProbablity[i]=countsVec[i]/np.sum(countsVec[i]) #measured probablity distribution\n",
    "    \n",
    "    for p in range(Nparallel):\n",
    "        measuredProbabilityPairState[p,i,:]=np.sum(measuredProbablity[i]*mapStatesToParallel[p,:,:],axis=1)\n",
    "        for m in range(len(dictStates)):\n",
    "            countsPairState[p][i][dictStates[m]]=measuredProbabilityPairState[p,i,m]\n",
    "    \n",
    "    if(memory==True): #get actual results for each shot\n",
    "        for k in range(Nrepeatcircuits):\n",
    "            if(k==0):\n",
    "                memoryResult=result.data(k*NmeasurementSettings+i)['memory'] #list of which state has been measured in hex format\n",
    "            else:\n",
    "                memoryResult+=result.data(k*NmeasurementSettings+i)['memory']\n",
    "        for p in range(Nparallel):\n",
    "            shotsResult[p][i]=[orderStates[int(memoryResult[j],16)][2*p:2*(p+1)] for j in range(totalshots)] #convert hex to int, then reorder states to canonical format and give string\n",
    "            measSetting[p][i]=[circuitstring[i] for j in range(totalshots)] #record measurement setting\n",
    "\n",
    "SResult=[]\n",
    "compareExact=[]\n",
    "for p in range(Nparallel):\n",
    "    mappedtoZZResult=measuredProbabilityPairState[p]*mappingBitResultToPM #multiply probablity distribution with prefactor of expectation value of <ZZ>\n",
    "    summedOverEachTermResult=np.sum(mappedtoZZResult,axis=1) #get each term of the inequality\n",
    "    SResult.append(np.sum(summedOverEachTermResult*CHSHfactors)) #multiply terms of inequality with prefactor of CHSH\n",
    "\n",
    "    compareExact.append([np.transpose([measuredProbabilityPairState[p,i],probabilitiesMappedToPair[i]]) for i in range(NmeasurementSettings)]) #compares result of each state for each measurementSetting against theory result\n",
    "\n",
    "    print(\"For parallel qubit pair\",p,\"inequality measured\",SResult[p],\"Theoretic value\",Stheory,\"Difference\",Stheory-SResult[p])\n",
    "\n",
    "print(\"Shows experiment and theory for each measurement setting and state\")\n",
    "print(\"[measured probability, theoretic probability]\")\n",
    "for p in range(Nparallel):\n",
    "    print(\"Parallel qubit pair\",p)\n",
    "    for i in range(NmeasurementSettings):\n",
    "        print(\"Measurement setting\",i)\n",
    "        print(compareExact[p][i])"
   ]
  },
  {
   "cell_type": "code",
   "execution_count": 41,
   "metadata": {},
   "outputs": [
    {
     "data": {
      "image/png": "[encoded data removed]",
      "text/plain": [
       "<Figure size 504x360 with 1 Axes>"
      ]
     },
     "metadata": {},
     "output_type": "display_data"
    },
    {
     "data": {
      "image/png": "[encoded data removed]",
      "text/plain": [
       "<Figure size 504x360 with 1 Axes>"
      ]
     },
     "metadata": {},
     "output_type": "display_data"
    },
    {
     "data": {
      "image/png": "[encoded data removed]",
      "text/plain": [
       "<Figure size 504x360 with 1 Axes>"
      ]
     },
     "metadata": {},
     "output_type": "display_data"
    }
   ],
   "source": [
    "#histogram of measured counts, for each term of the inequality\n",
    "for p in range(Nparallel):\n",
    "    fig=plot_histogram(countsPairState[p])\n",
    "    fig.savefig(\"Hist_\"+machine+\"_\"+dataset+\"_p\"+str(p)+\"_S\"+format(SResult[p],floatformat).replace(\".\",\"_\")+\".pdf\")\n",
    "    display(fig)\n",
    "\n",
    "fig=plot_histogram(theoryCountsMappedToPair) \n",
    "fig.savefig(\"Hist_\"+\"theory\"+\"_\"+dataset+\".pdf\")\n",
    "display(fig)\n"
   ]
  },
  {
   "cell_type": "code",
   "execution_count": 42,
   "metadata": {},
   "outputs": [
    {
     "name": "stdout",
     "output_type": "stream",
     "text": [
      "Output qubit pair 0 of parallel run\n",
      "Generating output bits of measurement results and settings for Alice and Bob\n",
      "Output qubit pair 1 of parallel run\n",
      "Generating output bits of measurement results and settings for Alice and Bob\n",
      "Finish output\n"
     ]
    }
   ],
   "source": [
    "#Output data\n",
    "\n",
    "resultA=[[] for i in range(Nparallel)] #alice measuremnt result\n",
    "resultB=[[] for i in range(Nparallel)] #bob measurement result\n",
    "measSettingA=[[] for i in range(Nparallel)] #alice measurement Setting\n",
    "measSettingB=[[] for i in range(Nparallel)] #bob measurement Setting\n",
    "\n",
    "if(memory==True):\n",
    "    for p in range(Nparallel):\n",
    "        print(\"Output qubit pair\",p,\"of parallel run\")\n",
    "        print(\"Generating output bits of measurement results and settings for Alice and Bob\")\n",
    "        shuffleCircuits=flatten([np.ones(totalshots,dtype=int)*i for i in range(NmeasurementSettings)]) #shuffle differen measurement types\n",
    "        np.random.shuffle(shuffleCircuits)\n",
    "        for i in range(NmeasurementSettings):\n",
    "            for j in range(totalshots):\n",
    "                circuitindex=shuffleCircuits[i*totalshots+j] #use shuffled index\n",
    "                resultA[p]+=shotsResult[p][circuitindex][j][0]\n",
    "                resultB[p]+=shotsResult[p][circuitindex][j][1]\n",
    "                measSettingA[p]+=measSetting[p][circuitindex][j][0]\n",
    "                measSettingB[p]+=measSetting[p][circuitindex][j][1]\n",
    "\n",
    "                #output \n",
    "        #first file contains Alice Result, Bob result, Alice Measurement settings and Bob measurement Settings\n",
    "        with open('outputCHSH_MeasurementResultAndSettings_'+machine+'_'+dataset+\"Pair_\"+str(p)+\"_S\"+format(SResult[p],floatformat).replace(\".\",\"_\")+'.txt', 'w') as the_file:\n",
    "            the_file.write(\"\".join(resultA[p])+\"\\n\")\n",
    "            the_file.write(\"\".join(resultB[p])+\"\\n\")\n",
    "            the_file.write(\"\".join(measSettingA[p])+\"\\n\")\n",
    "            the_file.write(\"\".join(measSettingB[p]))\n",
    "\n",
    "        #contains Alice Results and Bob results. Use this for the Extractor\n",
    "        with open('outputCHSH_MeasurementResult_'+machine+'_'+dataset+\"Pair_\"+str(p)+\"_S\"+format(SResult[p],floatformat).replace(\".\",\"_\")+'.txt', 'w') as the_file:\n",
    "            the_file.write(\"\".join(resultA[p])+\"\\n\")\n",
    "            the_file.write(\"\".join(resultB[p]))\n",
    "    \n",
    "    \n",
    "#dump all data in pickle\n",
    "outfile=open( \"outputCHSH_\"+machine+\"_\"+dataset+\".pcl\", \"wb\" )\n",
    "pickle.dump([date,mode,machine,shots,Nrepeatcircuits,Nstates,Nparallel,waittime,time_taken,coupling_map_pair,QubitsUsedMeasurementError,CNOTsUsedError,result,SResult,Stheory,compareExact], outfile)\n",
    "outfile.close()\n",
    "\n",
    "print(\"Finish output\")"
   ]
  },
  {
   "cell_type": "code",
   "execution_count": 43,
   "metadata": {},
   "outputs": [],
   "source": [
    "#print(result.get_counts(0))\n",
    "#x=result.data(0)['memory']\n",
    "#print(np.sum([int(x[j],16)==1 for j in range(8192)]))\n",
    "#print(orderStates[1])"
   ]
  },
  {
   "cell_type": "code",
   "execution_count": null,
   "metadata": {},
   "outputs": [],
   "source": []
  },
  {
   "cell_type": "code",
   "execution_count": null,
   "metadata": {},
   "outputs": [],
   "source": []
  },
  {
   "cell_type": "code",
   "execution_count": null,
   "metadata": {},
   "outputs": [],
   "source": []
  },
  {
   "cell_type": "code",
   "execution_count": null,
   "metadata": {},
   "outputs": [],
   "source": []
  },
  {
   "cell_type": "code",
   "execution_count": null,
   "metadata": {},
   "outputs": [],
   "source": []
  },
  {
   "cell_type": "code",
   "execution_count": null,
   "metadata": {},
   "outputs": [],
   "source": []
  },
  {
   "cell_type": "code",
   "execution_count": null,
   "metadata": {},
   "outputs": [],
   "source": []
  },
  {
   "cell_type": "code",
   "execution_count": null,
   "metadata": {},
   "outputs": [],
   "source": []
  },
  {
   "cell_type": "code",
   "execution_count": null,
   "metadata": {},
   "outputs": [],
   "source": []
  }
 ],
 "metadata": {
  "kernelspec": {
   "display_name": "Python 3",
   "language": "python",
   "name": "python3"
  },
  "language_info": {
   "codemirror_mode": {
    "name": "ipython",
    "version": 3
   },
   "file_extension": ".py",
   "mimetype": "text/x-python",
   "name": "python",
   "nbconvert_exporter": "python",
   "pygments_lexer": "ipython3",
   "version": "3.7.4"
  }
 },
 "nbformat": 4,
 "nbformat_minor": 2
}
